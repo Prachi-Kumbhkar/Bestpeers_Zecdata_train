{
 "cells": [
  {
   "cell_type": "markdown",
   "id": "3d7897a6-3b70-45a9-94ba-f9300cbdcf4b",
   "metadata": {},
   "source": [
    "# class method"
   ]
  },
  {
   "cell_type": "markdown",
   "id": "eedb56e1-739c-4b93-a7be-877c2fea81e4",
   "metadata": {},
   "source": [
    "#### they are particularly made for playing with class vars\n"
   ]
  },
  {
   "cell_type": "markdown",
   "id": "23ea4fb6-d760-476f-93bf-15e6b5ffec27",
   "metadata": {},
   "source": [
    "class var ---  a single copy is available for all object of a class  (any chnages in class var is available for alll object)"
   ]
  },
  {
   "cell_type": "code",
   "execution_count": 14,
   "id": "342ee1a7-1b88-4d6b-b397-5f7e91b6e48d",
   "metadata": {},
   "outputs": [],
   "source": [
    "class Parent:\n",
    "    fp = 'yes'\n",
    "    \n",
    "    @classmethod\n",
    "    def class_method(cls):\n",
    "        return cls.fp   ##v accessing class var inside class method\n",
    "\n"
   ]
  },
  {
   "cell_type": "code",
   "execution_count": 19,
   "id": "35f508d4-a694-40de-b610-0b287e904f6b",
   "metadata": {},
   "outputs": [
    {
     "data": {
      "text/plain": [
       "'yes'"
      ]
     },
     "execution_count": 19,
     "metadata": {},
     "output_type": "execute_result"
    }
   ],
   "source": [
    "p = Parent()\n",
    "\n",
    "Parent.class_method()   #accessing class var inside class method"
   ]
  },
  {
   "cell_type": "code",
   "execution_count": null,
   "id": "c3c7fd91-bf41-46e4-8b48-3fcd1a44da5f",
   "metadata": {},
   "outputs": [],
   "source": []
  },
  {
   "cell_type": "code",
   "execution_count": 20,
   "id": "2e2fc593-f65f-4bfd-a1b3-28632258a3b9",
   "metadata": {},
   "outputs": [
    {
     "name": "stdout",
     "output_type": "stream",
     "text": [
      "yes\n"
     ]
    }
   ],
   "source": [
    "\n",
    "print(Parent.fp)   ## accesing using class "
   ]
  },
  {
   "cell_type": "code",
   "execution_count": 21,
   "id": "32936d31-8872-4d6a-81cd-f53655fda6c5",
   "metadata": {},
   "outputs": [
    {
     "name": "stdout",
     "output_type": "stream",
     "text": [
      "yes\n"
     ]
    }
   ],
   "source": [
    "print(p.fp)    ## accesing using object"
   ]
  },
  {
   "cell_type": "markdown",
   "id": "96e7c87f-0d21-472f-8a49-fabe7860ae2d",
   "metadata": {},
   "source": [
    "we can access class var using class name and object and inside class method"
   ]
  },
  {
   "cell_type": "code",
   "execution_count": null,
   "id": "48ce9fc4-acf4-451c-b068-2dc57e20bd51",
   "metadata": {},
   "outputs": [],
   "source": []
  },
  {
   "cell_type": "code",
   "execution_count": 22,
   "id": "23d3d654-4314-4299-a4ed-782215462e29",
   "metadata": {},
   "outputs": [],
   "source": [
    "class Parent:\n",
    "    fp = 'yes'\n",
    "    \n",
    "    @classmethod\n",
    "    def class_method(cls):\n",
    "        return cls.fp   ##v accessing class var inside class method\n"
   ]
  },
  {
   "cell_type": "code",
   "execution_count": 26,
   "id": "a4193676-b7ee-49ef-b6ce-ea71c1547951",
   "metadata": {},
   "outputs": [],
   "source": [
    "p1 = Parent()\n",
    "p2 = Parent()\n",
    "p3 = Parent()"
   ]
  },
  {
   "cell_type": "code",
   "execution_count": 27,
   "id": "6a093593-29c6-48fa-98b7-372e37d68c6e",
   "metadata": {},
   "outputs": [],
   "source": [
    "Parent.fp = 'No'"
   ]
  },
  {
   "cell_type": "code",
   "execution_count": 28,
   "id": "97d805eb-2f0f-4c8c-af57-a5f90f85f3bb",
   "metadata": {},
   "outputs": [
    {
     "name": "stdout",
     "output_type": "stream",
     "text": [
      "No\n"
     ]
    }
   ],
   "source": [
    "print(Parent.fp)"
   ]
  },
  {
   "cell_type": "code",
   "execution_count": 31,
   "id": "bd4b2182-4fb7-479b-a46b-32cc0e85cb74",
   "metadata": {},
   "outputs": [
    {
     "name": "stdout",
     "output_type": "stream",
     "text": [
      "No\n",
      "No\n",
      "No\n"
     ]
    }
   ],
   "source": [
    "print(p1.fp)\n",
    "print(p2.fp)\n",
    "print(p3.fp)"
   ]
  },
  {
   "cell_type": "markdown",
   "id": "c95494e2-61d5-4ea0-ad86-b289ce4c4da9",
   "metadata": {},
   "source": []
  },
  {
   "cell_type": "code",
   "execution_count": 32,
   "id": "48189b8a-3669-482f-80be-7d229ee78256",
   "metadata": {},
   "outputs": [
    {
     "name": "stdout",
     "output_type": "stream",
     "text": [
      "not working\n"
     ]
    }
   ],
   "source": [
    " # <!-- when we want to change for only one object  -->\n",
    "\n",
    "p1.fp = 'not working'\n",
    "print(p1.fp)"
   ]
  },
  {
   "cell_type": "code",
   "execution_count": 33,
   "id": "1e268072-e5d5-4290-a683-7ffd32611f83",
   "metadata": {},
   "outputs": [
    {
     "name": "stdout",
     "output_type": "stream",
     "text": [
      "No\n",
      "No\n"
     ]
    }
   ],
   "source": [
    "print(p2.fp)\n",
    "print(p3.fp)"
   ]
  },
  {
   "cell_type": "code",
   "execution_count": null,
   "id": "094d4e9c-3f5d-4f9a-a73f-f7ffec08078c",
   "metadata": {},
   "outputs": [],
   "source": []
  },
  {
   "cell_type": "code",
   "execution_count": null,
   "id": "efe11b10-0913-4e99-9836-c6860e7c9a30",
   "metadata": {},
   "outputs": [],
   "source": []
  },
  {
   "cell_type": "code",
   "execution_count": 43,
   "id": "cd382379-8eb3-4822-8c67-c62222ce9d76",
   "metadata": {},
   "outputs": [],
   "source": [
    "class Animal:\n",
    "    fp = 'yes'\n",
    "\n",
    "    @classmethod\n",
    "    def class_mtd(cls):\n",
    "        return cls.fp\n",
    "    "
   ]
  },
  {
   "cell_type": "code",
   "execution_count": 44,
   "id": "3c42d130-826e-4e22-b6f4-02380ec42735",
   "metadata": {},
   "outputs": [],
   "source": [
    "a = Animal()\n",
    "a1 = Animal()\n",
    "a2 = Animal()"
   ]
  },
  {
   "cell_type": "code",
   "execution_count": 45,
   "id": "70495a5e-72c6-48c5-89df-c0a6acfb160e",
   "metadata": {},
   "outputs": [
    {
     "name": "stdout",
     "output_type": "stream",
     "text": [
      "yes\n",
      "yes\n",
      "yes\n"
     ]
    }
   ],
   "source": [
    "print(a.fp)\n",
    "print(a1.fp)\n",
    "print(a2.fp)"
   ]
  },
  {
   "cell_type": "code",
   "execution_count": null,
   "id": "91906acc-b108-4c25-99a2-ba6790bdddc5",
   "metadata": {},
   "outputs": [],
   "source": []
  },
  {
   "cell_type": "code",
   "execution_count": 59,
   "id": "629fb07a-cc30-4c6c-a07e-d7998c89e3b7",
   "metadata": {},
   "outputs": [],
   "source": [
    "class Animal:\n",
    "    fp = 'yes'\n",
    "\n",
    "    @classmethod\n",
    "    def class_mtd(cls):\n",
    "        cls.fp = 'No'   ## class var changed here\n",
    "        return cls.fp\n",
    "    "
   ]
  },
  {
   "cell_type": "code",
   "execution_count": 60,
   "id": "0fcd902b-f79c-4595-9832-3393be3a3757",
   "metadata": {},
   "outputs": [],
   "source": [
    "anim = Animal()\n",
    "anim2 = Animal()"
   ]
  },
  {
   "cell_type": "code",
   "execution_count": 61,
   "id": "e5a93f0d-9330-45cc-a27c-2cad2c9033b3",
   "metadata": {},
   "outputs": [
    {
     "name": "stdout",
     "output_type": "stream",
     "text": [
      "yes\n",
      "yes\n"
     ]
    }
   ],
   "source": [
    "print(anim.fp)\n",
    "print(anim2.fp)"
   ]
  },
  {
   "cell_type": "code",
   "execution_count": 62,
   "id": "0b25128b-37fd-4e31-9578-08c2dc960d16",
   "metadata": {},
   "outputs": [
    {
     "data": {
      "text/plain": [
       "'No'"
      ]
     },
     "execution_count": 62,
     "metadata": {},
     "output_type": "execute_result"
    }
   ],
   "source": [
    "Animal.class_mtd()   ## class methid called here and as soon as it is called ,class var changed\n"
   ]
  },
  {
   "cell_type": "code",
   "execution_count": 63,
   "id": "99a84a35-3922-456b-adf0-2e12d83a5f9f",
   "metadata": {},
   "outputs": [
    {
     "name": "stdout",
     "output_type": "stream",
     "text": [
      "No\n",
      "No\n"
     ]
    }
   ],
   "source": [
    "## hence class var changed it is applicable for every object\n",
    "\n",
    "print(anim.fp)\n",
    "print(anim2.fp)"
   ]
  },
  {
   "cell_type": "code",
   "execution_count": null,
   "id": "657a7a43-24b1-442e-a5b6-b6adef7926ae",
   "metadata": {},
   "outputs": [],
   "source": []
  },
  {
   "cell_type": "markdown",
   "id": "db06761e-4c30-4f1d-951e-c80790348757",
   "metadata": {},
   "source": [
    "# static method\n",
    "\n",
    "Static methods are a way to define methods that belong to the class but do not require access to the instance or class itself."
   ]
  },
  {
   "cell_type": "markdown",
   "id": "e21a06f8-3853-4618-8977-1166ebe46fb1",
   "metadata": {},
   "source": [
    "### passing member of one class to another class"
   ]
  },
  {
   "cell_type": "code",
   "execution_count": 76,
   "id": "8b29a13c-49a5-4b32-983d-3ce55f32bc1b",
   "metadata": {},
   "outputs": [],
   "source": [
    "class One:\n",
    "\n",
    "    def __init__(self, name, roll):\n",
    "        self.name = name\n",
    "        self.roll = roll\n",
    "\n",
    "    def show(self):\n",
    "        return self.name, self.roll\n",
    "\n"
   ]
  },
  {
   "cell_type": "code",
   "execution_count": 77,
   "id": "9f49757d-f316-45fe-9344-4dfc0f74aa12",
   "metadata": {},
   "outputs": [],
   "source": [
    "# one = One('rohit', 101)"
   ]
  },
  {
   "cell_type": "code",
   "execution_count": 78,
   "id": "498d9d80-b9c4-4f14-97d4-11d68132ec69",
   "metadata": {},
   "outputs": [],
   "source": [
    "# one.show()"
   ]
  },
  {
   "cell_type": "code",
   "execution_count": null,
   "id": "f88ed2a3-af05-4360-b404-7cc8a49adf4e",
   "metadata": {},
   "outputs": [],
   "source": []
  },
  {
   "cell_type": "code",
   "execution_count": 79,
   "id": "7d48c02d-be51-4c14-9cca-72e596bf1c94",
   "metadata": {},
   "outputs": [
    {
     "name": "stdout",
     "output_type": "stream",
     "text": [
      "name: rohit\n",
      "roll: 101\n"
     ]
    }
   ],
   "source": [
    "\n",
    "class Two:\n",
    "\n",
    "    @staticmethod\n",
    "    def st_method(s):\n",
    "        print('name:', s.name)\n",
    "        print('roll:', s.roll)\n",
    "        s.show()\n",
    "\n",
    "one = One('rohit', 101)\n",
    "\n",
    "Two.st_method(one)"
   ]
  },
  {
   "cell_type": "code",
   "execution_count": null,
   "id": "5ef833eb-6931-4da6-b942-15b47df377d6",
   "metadata": {},
   "outputs": [],
   "source": []
  },
  {
   "cell_type": "markdown",
   "id": "88856059-9237-4fc9-b311-d2122599dfa1",
   "metadata": {},
   "source": []
  },
  {
   "cell_type": "code",
   "execution_count": null,
   "id": "9c4b9e1b-814f-49e2-9557-6e13b64452ee",
   "metadata": {},
   "outputs": [],
   "source": []
  }
 ],
 "metadata": {
  "kernelspec": {
   "display_name": "Python 3 (ipykernel)",
   "language": "python",
   "name": "python3"
  },
  "language_info": {
   "codemirror_mode": {
    "name": "ipython",
    "version": 3
   },
   "file_extension": ".py",
   "mimetype": "text/x-python",
   "name": "python",
   "nbconvert_exporter": "python",
   "pygments_lexer": "ipython3",
   "version": "3.12.4"
  }
 },
 "nbformat": 4,
 "nbformat_minor": 5
}
