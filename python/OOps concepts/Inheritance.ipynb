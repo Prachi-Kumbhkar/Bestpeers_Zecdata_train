{
 "cells": [
  {
   "cell_type": "markdown",
   "id": "91542799-4cd3-4027-877b-9333e7a876b4",
   "metadata": {},
   "source": [
    "# Inheritance -- Multiple Inheritance and MRO\n"
   ]
  },
  {
   "cell_type": "markdown",
   "id": "3a325a55-94b3-4308-8e9b-b626c88c0562",
   "metadata": {},
   "source": [
    "\n",
    "When a class inherits from multiple classes, Python uses the Method Resolution Order (MRO) to determine the order in which base classes \n",
    "are called. The MRO is a linearization of the class hierarchy and ensures that each class is only called once and in a consistent order\n",
    "\n",
    "The order of accessing is processed from left parent to right parent"
   ]
  },
  {
   "cell_type": "code",
   "execution_count": 27,
   "id": "698d8b2d-21de-4986-9ada-a3a8f12674fa",
   "metadata": {},
   "outputs": [
    {
     "name": "stdout",
     "output_type": "stream",
     "text": [
      "[<class '__main__.Son'>, <class '__main__.Mother'>, <class '__main__.Father'>, <class 'object'>]\n",
      "son class method\n",
      "father class method\n",
      "mother class method\n"
     ]
    }
   ],
   "source": [
    "class Father:\n",
    "    def showF(self):\n",
    "        print('father class method')\n",
    "\n",
    "class Mother:\n",
    "    def showM(self):\n",
    "        print('mother class method')\n",
    "\n",
    "class Son(Mother,Father):\n",
    "    def showS(self):\n",
    "        print('son class method')\n",
    "\n",
    "son = Son()\n",
    "print(Son.mro())\n",
    "son.showS()\n",
    "son.showF()\n",
    "son.showM()"
   ]
  },
  {
   "cell_type": "code",
   "execution_count": 1,
   "id": "ab57f15d-bf96-4e9c-92a7-a6877f424d2f",
   "metadata": {},
   "outputs": [],
   "source": [
    "class A:\n",
    "    def hello(self):\n",
    "        print(\"Hello from A\")\n",
    "\n",
    "class B(A):\n",
    "    def func(self):\n",
    "        print('i am function in B')\n",
    "        \n",
    "    def hello(self):\n",
    "        print(\"Hello from B\")\n",
    "\n",
    "class C(A):\n",
    "    def hello(self):\n",
    "        print(\"Hello from C\")\n",
    "\n",
    "class D(B, C):\n",
    "    pass\n",
    "\n",
    "class E(C, B):\n",
    "    pass\n"
   ]
  },
  {
   "cell_type": "code",
   "execution_count": 3,
   "id": "b37109f3-085f-49f8-a376-e36fb9a92523",
   "metadata": {},
   "outputs": [
    {
     "name": "stdout",
     "output_type": "stream",
     "text": [
      "Hello from B\n",
      "i am function in B\n"
     ]
    }
   ],
   "source": [
    "d = D()\n",
    "d.hello()\n",
    "d.func()"
   ]
  },
  {
   "cell_type": "code",
   "execution_count": 11,
   "id": "9f8c61e2-1719-4ca7-a5a1-293f3bd7a69f",
   "metadata": {},
   "outputs": [
    {
     "name": "stdout",
     "output_type": "stream",
     "text": [
      "[<class '__main__.D'>, <class '__main__.B'>, <class '__main__.C'>, <class '__main__.A'>, <class 'object'>]\n",
      "[<class '__main__.E'>, <class '__main__.C'>, <class '__main__.B'>, <class '__main__.A'>, <class 'object'>]\n"
     ]
    }
   ],
   "source": [
    "\n",
    "print(D.mro())  # Output: [D, B, C, A, object]\n",
    "print(E.mro())  # Output: [E, C, B, A, object]\n"
   ]
  },
  {
   "cell_type": "code",
   "execution_count": null,
   "id": "49825d00-3d15-4cbb-9941-dd6819f3408d",
   "metadata": {},
   "outputs": [],
   "source": []
  },
  {
   "cell_type": "code",
   "execution_count": null,
   "id": "0e79c5e1-e66a-4a9f-b01b-be1a6964e591",
   "metadata": {},
   "outputs": [],
   "source": []
  },
  {
   "cell_type": "code",
   "execution_count": 23,
   "id": "f0845409-a6b1-4c82-9fed-cf585c986b1d",
   "metadata": {},
   "outputs": [
    {
     "name": "stdout",
     "output_type": "stream",
     "text": [
      "Hello from C\n"
     ]
    }
   ],
   "source": [
    "class A:\n",
    "    def hello(self):\n",
    "        print(\"Hello from A\")\n",
    "\n",
    "class B:\n",
    "    def func(self):\n",
    "        print('i am function in B')\n",
    "        \n",
    "    def hello(self):\n",
    "        print(\"Hello from B\")\n",
    "\n",
    "class C(A):\n",
    "    def hello(self):\n",
    "        print(\"Hello from C\")\n",
    "\n",
    "class D(B):\n",
    "    def hello(self):\n",
    "        print('hello from D')\n",
    "\n",
    "class E(C, D):\n",
    "    # def hello(self):\n",
    "    #     print('hello from E')\n",
    "    pass\n",
    "e  =E()\n",
    "e.hello()"
   ]
  },
  {
   "cell_type": "code",
   "execution_count": 20,
   "id": "db843c58-f298-4c0a-afe6-1b7da618f807",
   "metadata": {},
   "outputs": [
    {
     "name": "stdout",
     "output_type": "stream",
     "text": [
      "[<class '__main__.E'>, <class '__main__.C'>, <class '__main__.A'>, <class '__main__.D'>, <class '__main__.B'>, <class 'object'>]\n"
     ]
    }
   ],
   "source": [
    "print(E.mro())"
   ]
  },
  {
   "cell_type": "code",
   "execution_count": null,
   "id": "c22078b1-c0c3-493d-a658-9b268984968a",
   "metadata": {},
   "outputs": [],
   "source": []
  },
  {
   "cell_type": "code",
   "execution_count": 31,
   "id": "fa6b001b-59cb-40fc-944f-107ab7fbadd7",
   "metadata": {},
   "outputs": [
    {
     "name": "stdout",
     "output_type": "stream",
     "text": [
      "Hello from C\n",
      "[<class '__main__.E'>, <class '__main__.C'>, <class '__main__.A'>, <class '__main__.B'>, <class 'object'>]\n"
     ]
    }
   ],
   "source": [
    "class A:\n",
    "    def hello(self):\n",
    "        print(\"Hello from A\")\n",
    "\n",
    "class B:\n",
    "    def func(self):\n",
    "        print('i am function in B')\n",
    "        \n",
    "    def hello(self):\n",
    "        print(\"Hello from B\")\n",
    "\n",
    "class C(A):\n",
    "    def hello(self):\n",
    "        print(\"Hello from C\")\n",
    "\n",
    "class D(B):\n",
    "    def func_1(self):\n",
    "        print('i am D func')\n",
    "        \n",
    "    def hello():\n",
    "        print('hello from D')\n",
    "\n",
    "class E(C, B):\n",
    "    pass\n",
    "\n",
    "e  =E()\n",
    "e.hello()\n",
    "print(E.mro())\n",
    "# e.func_1()   ## since D is not included in mro hence throw error"
   ]
  },
  {
   "cell_type": "code",
   "execution_count": null,
   "id": "484197ce-2eab-4395-ba4f-37329a407661",
   "metadata": {},
   "outputs": [],
   "source": []
  },
  {
   "cell_type": "markdown",
   "id": "e3a6a8fa-3bb3-4264-8f34-5618f698f7f5",
   "metadata": {},
   "source": [
    "# using super method"
   ]
  },
  {
   "cell_type": "code",
   "execution_count": 35,
   "id": "17af1e10-118f-453a-820a-76566293dfca",
   "metadata": {},
   "outputs": [
    {
     "name": "stdout",
     "output_type": "stream",
     "text": [
      "Hello from A\n",
      "Hello from C\n",
      "Hello from B\n",
      "Hello from D\n",
      "[<class '__main__.D'>, <class '__main__.B'>, <class '__main__.C'>, <class '__main__.A'>, <class 'object'>]\n"
     ]
    }
   ],
   "source": [
    "class A:\n",
    "    def hello(self):\n",
    "        print(\"Hello from A\")\n",
    "\n",
    "class B(A):\n",
    "    def hello(self):\n",
    "        super().hello()\n",
    "        print(\"Hello from B\")\n",
    "\n",
    "class C(A):\n",
    "    def hello(self):\n",
    "        super().hello()\n",
    "        print(\"Hello from C\")\n",
    "\n",
    "class D(B, C):\n",
    "    def hello(self):\n",
    "        super().hello()\n",
    "        print(\"Hello from D\")\n",
    "\n",
    "d = D()\n",
    "d.hello()\n",
    "print(D.mro())\n",
    "\n"
   ]
  },
  {
   "cell_type": "code",
   "execution_count": null,
   "id": "564b2e20-caa2-4b4c-85c2-35468442f483",
   "metadata": {},
   "outputs": [],
   "source": []
  },
  {
   "cell_type": "code",
   "execution_count": 15,
   "id": "848169c9-66a7-46d1-8621-c2177fe4f9fb",
   "metadata": {},
   "outputs": [
    {
     "name": "stdout",
     "output_type": "stream",
     "text": [
      "Constructor of A\n",
      "Constructor of C\n",
      "Constructor of B\n",
      "Constructor of D\n",
      "Method in D\n",
      "Method in B\n",
      "Method in C\n",
      "Method in A\n",
      "(<class '__main__.D'>, <class '__main__.B'>, <class '__main__.C'>, <class '__main__.A'>, <class 'object'>)\n"
     ]
    }
   ],
   "source": [
    "class A:\n",
    "    def __init__(self):\n",
    "        print(\"Constructor of A\")\n",
    "    def method(self):\n",
    "        print(\"Method in A\")\n",
    "\n",
    "class B(A):\n",
    "    def __init__(self):\n",
    "        super().__init__()\n",
    "        print(\"Constructor of B\")\n",
    "    def method(self):\n",
    "        print(\"Method in B\")\n",
    "        super().method()\n",
    "\n",
    "class C(A):\n",
    "    def __init__(self):\n",
    "        super().__init__()\n",
    "        print(\"Constructor of C\")\n",
    "    def method(self):\n",
    "        print(\"Method in C\")\n",
    "        super().method()\n",
    "\n",
    "class D(B, C):\n",
    "    def __init__(self):\n",
    "        super().__init__()\n",
    "        print(\"Constructor of D\")\n",
    "    def method(self):\n",
    "        print(\"Method in D\")\n",
    "        super().method()\n",
    "\n",
    "# Create an instance of D\n",
    "d = D()\n",
    "\n",
    "# Call the method\n",
    "d.method()\n",
    "\n",
    "# Display the MRO\n",
    "print(D.__mro__)\n"
   ]
  },
  {
   "cell_type": "code",
   "execution_count": null,
   "id": "3ae87864-56a2-479b-99d8-0d5ca59e64f3",
   "metadata": {},
   "outputs": [],
   "source": []
  },
  {
   "cell_type": "markdown",
   "id": "113e03fb-817b-432a-8f5b-9b80002b6939",
   "metadata": {},
   "source": [
    "# constructor overrididng"
   ]
  },
  {
   "cell_type": "markdown",
   "id": "1d37ecb7-3a5d-46d8-a513-859bf28390a8",
   "metadata": {},
   "source": [
    "when constructor is available in parent and child class both then parent class constructor doesnt get accesed but child class constructor accesed only"
   ]
  },
  {
   "cell_type": "code",
   "execution_count": 27,
   "id": "489a5d71-3e00-47b5-997c-384389b5d084",
   "metadata": {},
   "outputs": [],
   "source": [
    "class Animal:\n",
    "    def __init__(self, name, age):\n",
    "        self.name = name\n",
    "        self.age = age\n",
    "        print(f\"Animal created: {self.name}, {self.age} years old\")\n",
    "\n",
    "class Dog(Animal):\n",
    "    def __init__(self, name, age, breed):\n",
    "        super().__init__(name, age)  # Call the superclass constructor\n",
    "        self.breed = breed\n",
    "        print(f\"Dog created: {self.name}, {self.age} years old, Breed: {self.breed}\")\n",
    "\n",
    "class Cat(Animal):\n",
    "    def __init__(self, color):\n",
    "        super().__init__('mini', 4)  # Call the superclass constructor\n",
    "        self.color = color\n",
    "        print(f\"Cat created: {self.name}, {self.age} years old, Color: {self.color}\")\n",
    "\n"
   ]
  },
  {
   "cell_type": "code",
   "execution_count": 28,
   "id": "84446edf-eabd-4bbf-8c53-0f49998991e4",
   "metadata": {},
   "outputs": [
    {
     "name": "stdout",
     "output_type": "stream",
     "text": [
      "Animal created: jina, 5 years old\n",
      "Dog created: jina, 5 years old, Breed: breedss\n"
     ]
    }
   ],
   "source": [
    "d = Dog('jina',5,'breedss')"
   ]
  },
  {
   "cell_type": "code",
   "execution_count": 29,
   "id": "6252822a-44a0-4c57-9284-b785153aab6c",
   "metadata": {},
   "outputs": [
    {
     "name": "stdout",
     "output_type": "stream",
     "text": [
      "Animal created: mini, 4 years old\n",
      "Cat created: mini, 4 years old, Color: blue\n"
     ]
    }
   ],
   "source": [
    "c = Cat('blue')\n"
   ]
  },
  {
   "cell_type": "markdown",
   "id": "53874d47-32e3-4314-b8e1-bd8136949694",
   "metadata": {},
   "source": [
    "# method overriding"
   ]
  },
  {
   "cell_type": "markdown",
   "id": "aa7a5789-02f0-498f-8d8d-c4281d674113",
   "metadata": {},
   "source": [
    "when same name method available in parent and child class both then parent clss method doesnt get accesed but child class method accesed onl"
   ]
  },
  {
   "cell_type": "code",
   "execution_count": 17,
   "id": "ef05f700-443b-4938-b100-928af63f81c4",
   "metadata": {},
   "outputs": [],
   "source": [
    "class Parent:\n",
    "    def method1(self):\n",
    "        print('I am method 1')\n",
    "\n",
    "class Child(Parent):\n",
    "    def method1(self):\n",
    "        print('I am method2')"
   ]
  },
  {
   "cell_type": "code",
   "execution_count": 18,
   "id": "ef04ca36-da1a-47f6-be83-04e1517dc7b6",
   "metadata": {},
   "outputs": [
    {
     "name": "stdout",
     "output_type": "stream",
     "text": [
      "I am method2\n"
     ]
    }
   ],
   "source": [
    "c = Child()\n",
    "c.method1()"
   ]
  },
  {
   "cell_type": "markdown",
   "id": "0ae202ef-55c1-4cbb-b23f-e0ed3b9d9bfd",
   "metadata": {},
   "source": [
    "# To avoid the method overriding use super method"
   ]
  },
  {
   "cell_type": "code",
   "execution_count": 19,
   "id": "ed4fe34e-91e2-4064-b626-68723cae1033",
   "metadata": {},
   "outputs": [],
   "source": [
    "class Parent:\n",
    "    def method1(self):\n",
    "        print('I am method 1')\n",
    "\n",
    "class Child(Parent):\n",
    "    def method1(self):\n",
    "        super().method1()\n",
    "        print('I am method2')"
   ]
  },
  {
   "cell_type": "code",
   "execution_count": 20,
   "id": "cdd502f4-4133-4528-b6a4-5d538d5324e2",
   "metadata": {},
   "outputs": [
    {
     "name": "stdout",
     "output_type": "stream",
     "text": [
      "I am method 1\n",
      "I am method2\n"
     ]
    }
   ],
   "source": [
    "c = Child()\n",
    "c.method1()"
   ]
  },
  {
   "cell_type": "code",
   "execution_count": null,
   "id": "baa49008-0a6b-455c-abed-5ca75838dfc3",
   "metadata": {},
   "outputs": [],
   "source": []
  },
  {
   "cell_type": "code",
   "execution_count": 21,
   "id": "4fa09d86-0752-4fb6-bb26-d4d6c4b38bbb",
   "metadata": {},
   "outputs": [],
   "source": [
    "class Parent:\n",
    "    def method1(self, name):\n",
    "        print('I am method 1')\n",
    "        print('I am dad',name)\n",
    "\n",
    "class Child(Parent):\n",
    "    def method1(self, name):\n",
    "        super().method1('virat')\n",
    "        print('I am method2 : ', name)"
   ]
  },
  {
   "cell_type": "code",
   "execution_count": 22,
   "id": "65ef6e01-80fc-48fc-a363-1d1999b89957",
   "metadata": {},
   "outputs": [
    {
     "name": "stdout",
     "output_type": "stream",
     "text": [
      "I am method 1\n",
      "I am dad virat\n",
      "I am method2 :  akaay\n"
     ]
    }
   ],
   "source": [
    "c = Child()\n",
    "c.method1('akaay')"
   ]
  },
  {
   "cell_type": "code",
   "execution_count": null,
   "id": "ee4a48f2-fed5-49e3-a583-8806787894b7",
   "metadata": {},
   "outputs": [],
   "source": []
  },
  {
   "cell_type": "code",
   "execution_count": 23,
   "id": "f7cd4147-4f54-4922-bc0f-e29c0ca56f0f",
   "metadata": {},
   "outputs": [],
   "source": [
    "class Parent:\n",
    "    def method1(self, name):\n",
    "        print('I am method 1')\n",
    "        print('I am dad',name)\n",
    "\n",
    "class Child(Parent):\n",
    "    def method1(self, name, age):\n",
    "        self.age = age\n",
    "        super().method1('virat')\n",
    "        print('I am method2 : ', name,  'age', self.age)"
   ]
  },
  {
   "cell_type": "code",
   "execution_count": 24,
   "id": "724eea84-2ce4-404c-8609-bc3d1c95bcbc",
   "metadata": {},
   "outputs": [
    {
     "name": "stdout",
     "output_type": "stream",
     "text": [
      "I am method 1\n",
      "I am dad virat\n",
      "I am method2 :  akaay age 2\n"
     ]
    }
   ],
   "source": [
    "c = Child()\n",
    "c.method1('akaay', 2)"
   ]
  },
  {
   "cell_type": "code",
   "execution_count": null,
   "id": "11089fda-22e9-44e6-8fe4-d326ab01c349",
   "metadata": {},
   "outputs": [],
   "source": []
  },
  {
   "cell_type": "code",
   "execution_count": null,
   "id": "e61ac475-6f14-4891-a4f0-1c5b0f8b3f44",
   "metadata": {},
   "outputs": [],
   "source": []
  },
  {
   "cell_type": "code",
   "execution_count": null,
   "id": "8fd91c7f-8d9b-4a9e-8da6-101cb99ebf3a",
   "metadata": {},
   "outputs": [],
   "source": []
  }
 ],
 "metadata": {
  "kernelspec": {
   "display_name": "Python 3 (ipykernel)",
   "language": "python",
   "name": "python3"
  },
  "language_info": {
   "codemirror_mode": {
    "name": "ipython",
    "version": 3
   },
   "file_extension": ".py",
   "mimetype": "text/x-python",
   "name": "python",
   "nbconvert_exporter": "python",
   "pygments_lexer": "ipython3",
   "version": "3.12.4"
  }
 },
 "nbformat": 4,
 "nbformat_minor": 5
}
