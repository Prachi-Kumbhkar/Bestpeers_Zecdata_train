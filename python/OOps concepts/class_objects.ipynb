{
 "cells": [
  {
   "cell_type": "markdown",
   "id": "2f1aded2-b74d-45fd-83f7-c4b70550f6cd",
   "metadata": {},
   "source": [
    "class -- blueprint / structure for the objetcs\n",
    "\n",
    "objects -- instance of the class"
   ]
  },
  {
   "cell_type": "code",
   "execution_count": 4,
   "id": "70200881-34ce-43cb-a38c-9be34de580fc",
   "metadata": {},
   "outputs": [
    {
     "name": "stdout",
     "output_type": "stream",
     "text": [
      "Buddy\n",
      "Poodle\n",
      "Woof!\n"
     ]
    }
   ],
   "source": [
    "\n",
    "class Dog:\n",
    "    def __init__(self, name, breed):\n",
    "        self.name = name\n",
    "        self.breed = breed\n",
    "\n",
    "    def bark(self):\n",
    "        print(\"Woof!\")\n",
    "\n",
    "# Creating objects\n",
    "my_dog = Dog(\"Buddy\", \"Labrador\")\n",
    "your_dog = Dog(\"Bella\", \"Poodle\")\n",
    "\n",
    "print(my_dog.name)  \n",
    "print(your_dog.breed)\n",
    "my_dog.bark()"
   ]
  },
  {
   "cell_type": "code",
   "execution_count": null,
   "id": "9de87950-f5ca-48f9-a8f7-3f706e5df475",
   "metadata": {},
   "outputs": [],
   "source": []
  },
  {
   "cell_type": "markdown",
   "id": "576ef813-8e74-4ac0-9db5-578b3931b95e",
   "metadata": {},
   "source": [
    "# Inheritance"
   ]
  },
  {
   "cell_type": "code",
   "execution_count": 5,
   "id": "c70f5956-f272-44e6-a489-4d5e87d04e32",
   "metadata": {},
   "outputs": [
    {
     "name": "stdout",
     "output_type": "stream",
     "text": [
      "Woof!\n",
      "Buddy is guiding Alice.\n"
     ]
    }
   ],
   "source": [
    "class GuideDog(Dog):\n",
    "    def __init__(self, name, breed, owner):\n",
    "        super().__init__(name, breed)\n",
    "        self.owner = owner\n",
    "\n",
    "    def guide(self):\n",
    "        print(f\"{self.name} is guiding {self.owner}.\")\n",
    "\n",
    "my_guide_dog = GuideDog(\"Buddy\", \"Labrador\", \"Alice\")\n",
    "my_guide_dog.bark()  \n",
    "my_guide_dog.guide()  "
   ]
  },
  {
   "cell_type": "code",
   "execution_count": null,
   "id": "633c64f7-533a-4fb2-ba18-45ab61e6a60b",
   "metadata": {},
   "outputs": [],
   "source": []
  },
  {
   "cell_type": "code",
   "execution_count": 8,
   "id": "8de9b1f3-b556-4e5d-a0c2-837de5569377",
   "metadata": {},
   "outputs": [
    {
     "name": "stdout",
     "output_type": "stream",
     "text": [
      "2 crore\n",
      "500\n",
      "the detais are: property is 2 crore and area is 2 crore\n"
     ]
    }
   ],
   "source": [
    "class Parent:\n",
    "\n",
    "    def __init__(self, property, area_in_sq_ft):\n",
    "        self.property = property\n",
    "        self.area_in_sq_ft = area_in_sq_ft\n",
    "\n",
    "    def __str__(self):\n",
    "        return f'the detais are: property is {self.property} and area is {self.property}'\n",
    "\n",
    "obj = Parent('2 crore', 500)\n",
    "print(obj.property)\n",
    "print(obj.area_in_sq_ft)\n",
    "\n",
    "print(obj)   ## WHEN WE PRINT OBJ IT CALL __STR__METHOD"
   ]
  },
  {
   "cell_type": "code",
   "execution_count": null,
   "id": "c472e2b1-4505-4e80-8cf7-56251321b66d",
   "metadata": {},
   "outputs": [],
   "source": []
  },
  {
   "cell_type": "code",
   "execution_count": 53,
   "id": "3a54948a-b7ef-45a9-978e-77c559f52858",
   "metadata": {},
   "outputs": [],
   "source": [
    "class Parent:\n",
    "\n",
    "    def __init__(self, property, area_in_sq_ft):\n",
    "        self.property = property\n",
    "        self.area_in_sq_ft = area_in_sq_ft\n",
    "\n",
    "    def __str__(self):\n",
    "        return f'the detais are: property is {self.property} and area is {self.area_in_sq_ft}'\n",
    "\n",
    "    def __repr__(self):\n",
    "        return f'repr -- the detais are: property is {self.property} and area is {self.area_in_sq_ft}'\n",
    "        \n",
    "\n",
    "        "
   ]
  },
  {
   "cell_type": "code",
   "execution_count": 54,
   "id": "5db9d5a5-d350-455e-b51f-c641da0a5851",
   "metadata": {},
   "outputs": [
    {
     "name": "stdout",
     "output_type": "stream",
     "text": [
      "the detais are: property is 3lakh and area is 500\n"
     ]
    }
   ],
   "source": [
    "\n",
    "p = Parent('3lakh', 500)\n",
    "print(p)"
   ]
  },
  {
   "cell_type": "code",
   "execution_count": 55,
   "id": "a0dc99d4-f5bc-40da-93b0-7e3aee4994c5",
   "metadata": {},
   "outputs": [
    {
     "name": "stdout",
     "output_type": "stream",
     "text": [
      "repr -- the detais are: property is 3lakh and area is 500\n"
     ]
    }
   ],
   "source": [
    "print(repr(p))"
   ]
  },
  {
   "cell_type": "code",
   "execution_count": null,
   "id": "97005cd8-7c1a-4af6-b7e0-297d7327a90e",
   "metadata": {},
   "outputs": [],
   "source": []
  },
  {
   "cell_type": "code",
   "execution_count": null,
   "id": "9c067604-a6b3-4801-b3ef-6ae96e0c96b6",
   "metadata": {},
   "outputs": [],
   "source": []
  },
  {
   "cell_type": "code",
   "execution_count": 31,
   "id": "149b7f89-e5e8-4ce6-9440-339d59677ec5",
   "metadata": {},
   "outputs": [],
   "source": [
    "class Parent:\n",
    "\n",
    "    def __init__(self, property, area_in_sq_ft):\n",
    "        self.property = property\n",
    "        self.area_in_sq_ft = area_in_sq_ft\n",
    "\n",
    "    def __str__(self):\n",
    "        return f'the detais are: property is {self.property} and area is {self.area_in_sq_ft}'\n",
    "\n",
    "    def __repr__(self):\n",
    "        return f'repr -- the detais are: property is {self.property} and area is {self.area_in_sq_ft}'\n",
    "        \n",
    "class Child(Parent):\n",
    "\n",
    "    def __init__(self, property, area_in_sq_ft, salary):\n",
    "        super().__init__(property, area_in_sq_ft)\n",
    "        self.salary  = salary\n",
    "\n",
    "    def __str__(self):\n",
    "        return super().__str__() + ' ' f'this is str in child'\n",
    "        # return f'this is str in child'"
   ]
  },
  {
   "cell_type": "code",
   "execution_count": 32,
   "id": "a1fe189c-858a-470e-b31c-fc5236ff0d0e",
   "metadata": {},
   "outputs": [
    {
     "name": "stdout",
     "output_type": "stream",
     "text": [
      "4lakh\n",
      "300\n",
      "500000\n"
     ]
    }
   ],
   "source": [
    "c = Child('4lakh', 300, 500000)\n",
    "print(c.property)\n",
    "print(c.area_in_sq_ft)\n",
    "print(c.salary)"
   ]
  },
  {
   "cell_type": "code",
   "execution_count": 33,
   "id": "b2269a45-78d6-4b92-9a65-680ba363aa80",
   "metadata": {},
   "outputs": [
    {
     "name": "stdout",
     "output_type": "stream",
     "text": [
      "the detais are: property is 4lakh and area is 300 this is str in child\n"
     ]
    }
   ],
   "source": [
    "print(c)"
   ]
  },
  {
   "cell_type": "code",
   "execution_count": null,
   "id": "4ed4425d-2c7d-4960-9c51-438a4067d3ff",
   "metadata": {},
   "outputs": [],
   "source": []
  },
  {
   "cell_type": "code",
   "execution_count": null,
   "id": "4e104cae-7323-4487-b56e-39617dd6b138",
   "metadata": {},
   "outputs": [],
   "source": []
  }
 ],
 "metadata": {
  "kernelspec": {
   "display_name": "Python 3 (ipykernel)",
   "language": "python",
   "name": "python3"
  },
  "language_info": {
   "codemirror_mode": {
    "name": "ipython",
    "version": 3
   },
   "file_extension": ".py",
   "mimetype": "text/x-python",
   "name": "python",
   "nbconvert_exporter": "python",
   "pygments_lexer": "ipython3",
   "version": "3.12.4"
  }
 },
 "nbformat": 4,
 "nbformat_minor": 5
}
