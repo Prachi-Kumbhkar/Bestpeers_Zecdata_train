{
 "cells": [
  {
   "cell_type": "markdown",
   "id": "9351d1d9-45e5-4453-9d72-a80a8b6c9721",
   "metadata": {},
   "source": [
    "# Polymorphism"
   ]
  },
  {
   "cell_type": "code",
   "execution_count": null,
   "id": "97eb101d-1b6c-4e0a-a536-2ad861c38d92",
   "metadata": {},
   "outputs": [],
   "source": []
  },
  {
   "cell_type": "markdown",
   "id": "93e321e6-b921-4a1c-9484-94e022b994ac",
   "metadata": {},
   "source": [
    "polymorphism Polymorphism is a fundamental concept in object-oriented programming (OOP) that allows for writing code\n",
    "\n",
    "that can work with different data types. In Python, polymorphism is achieved through method overriding or method overloading."
   ]
  },
  {
   "cell_type": "code",
   "execution_count": null,
   "id": "6490096b-81a3-4232-ae13-a0a7e4b93df7",
   "metadata": {},
   "outputs": [],
   "source": []
  },
  {
   "cell_type": "markdown",
   "id": "0532a157-073b-4f45-93ef-a269761c3a69",
   "metadata": {},
   "source": [
    "#### method overriding"
   ]
  },
  {
   "cell_type": "markdown",
   "id": "f073df05-f024-4159-87c3-7e488b16aa16",
   "metadata": {},
   "source": [
    "Method overriding is a process where a subclass provides a different implementation of a method that is already defined in its superclass. \n",
    "\n",
    "and subclass has same name, return type  AND PARAMETER LIIST etc."
   ]
  },
  {
   "cell_type": "code",
   "execution_count": 2,
   "id": "e33f9f5a-97aa-49b9-ab94-49bf6792ea34",
   "metadata": {},
   "outputs": [
    {
     "name": "stdout",
     "output_type": "stream",
     "text": [
      "The dog barks.\n",
      "The cat meows.\n"
     ]
    }
   ],
   "source": [
    "class Animal:\n",
    "    def sound(self):\n",
    "        print(\"The animal makes a sound.\")\n",
    "\n",
    "class Dog(Animal):\n",
    "    def sound(self):\n",
    "        print(\"The dog barks.\")\n",
    "\n",
    "class Cat(Animal):\n",
    "    def sound(self):\n",
    "        print(\"The cat meows.\")\n",
    "\n",
    "# Create instances of Dog and Cat\n",
    "dog = Dog()\n",
    "cat = Cat()\n",
    "\n",
    "# Call the sound method on each instance\n",
    "dog.sound()  \n",
    "cat.sound()  \n",
    "\n",
    "## BUT TO CALL ANIMAL METHOD ALSO USE SUPER METHOD"
   ]
  },
  {
   "cell_type": "code",
   "execution_count": null,
   "id": "1e36dff5-3a9a-40df-8563-5dfeb03b9507",
   "metadata": {},
   "outputs": [],
   "source": []
  },
  {
   "cell_type": "code",
   "execution_count": null,
   "id": "0be3d1e0-c928-4da2-bf24-fad6ca3d444d",
   "metadata": {},
   "outputs": [],
   "source": []
  },
  {
   "cell_type": "markdown",
   "id": "31d749a7-6b99-4b1b-b00a-022e1fede7de",
   "metadata": {},
   "source": [
    "In the context of polymorphism and duck typing, \"different types of objects\" refer to objects that belong to different classes\n",
    "\n",
    "but share a common behavior or interface. This means that objects from different classes can be treated the same way \n",
    "\n",
    "if they have the same methods or properties, regardless of their class definitions.\n",
    "\n",
    "In other words, if an object has the same attributes and methods as another object, it can be treated as if it were of the same type."
   ]
  },
  {
   "cell_type": "code",
   "execution_count": 4,
   "id": "e67ed7aa-dd64-4139-8d2f-991560b98d70",
   "metadata": {},
   "outputs": [
    {
     "name": "stdout",
     "output_type": "stream",
     "text": [
      "Woof!\n",
      "Meow!\n",
      "Quack!\n"
     ]
    }
   ],
   "source": [
    "class Dog:\n",
    "    def sound(self):\n",
    "        return \"Woof!\"\n",
    "\n",
    "class Cat:\n",
    "    def sound(self):\n",
    "        return \"Meow!\"\n",
    "\n",
    "class Duck:\n",
    "    def sound(self):\n",
    "        return \"Quack!\"\n",
    "\n",
    "# Function that uses duck typing\n",
    "def make_sound(animal):\n",
    "    print(animal.sound())\n",
    "\n",
    "dog = Dog()\n",
    "cat = Cat()\n",
    "duck = Duck()\n",
    "\n",
    "# Using polymorphism with duck typing\n",
    "make_sound(dog)  \n",
    "make_sound(cat)  \n",
    "make_sound(duck) \n"
   ]
  },
  {
   "cell_type": "code",
   "execution_count": null,
   "id": "0ec0c2e4-85dd-4313-ac70-5ce60681cb8f",
   "metadata": {},
   "outputs": [],
   "source": []
  }
 ],
 "metadata": {
  "kernelspec": {
   "display_name": "Python 3 (ipykernel)",
   "language": "python",
   "name": "python3"
  },
  "language_info": {
   "codemirror_mode": {
    "name": "ipython",
    "version": 3
   },
   "file_extension": ".py",
   "mimetype": "text/x-python",
   "name": "python",
   "nbconvert_exporter": "python",
   "pygments_lexer": "ipython3",
   "version": "3.12.4"
  }
 },
 "nbformat": 4,
 "nbformat_minor": 5
}
