{
 "cells": [
  {
   "cell_type": "markdown",
   "id": "aac1aad3-81aa-48af-b3d3-b4fd1d6acad5",
   "metadata": {},
   "source": [
    "# loops"
   ]
  },
  {
   "cell_type": "markdown",
   "id": "19c4c38f-6c9c-4cdb-9c30-269c13ce6ef3",
   "metadata": {},
   "source": [
    "loops are used to execute block of code repeatedly either for a specified no. of times or untill condition is satisfied\n",
    "\n",
    "two types of loops :\n",
    "\n",
    "1 .. for loop  (run for a specified no. of times)\n",
    "\n",
    "2 .. while loop (run until the condition is specified)"
   ]
  },
  {
   "cell_type": "code",
   "execution_count": 1,
   "id": "0ff9431c-a9c5-45ef-9090-2c77ee246763",
   "metadata": {},
   "outputs": [
    {
     "name": "stdout",
     "output_type": "stream",
     "text": [
      "the integer is :  1 and  the square of int is : 1\n",
      "the integer is :  2 and  the square of int is : 4\n",
      "the integer is :  3 and  the square of int is : 9\n",
      "the integer is :  4 and  the square of int is : 16\n",
      "the integer is :  5 and  the square of int is : 25\n",
      "the integer is :  6 and  the square of int is : 36\n",
      "the integer is :  7 and  the square of int is : 49\n",
      "the integer is :  8 and  the square of int is : 64\n",
      "the integer is :  9 and  the square of int is : 81\n",
      "the integer is :  10 and  the square of int is : 100\n"
     ]
    }
   ],
   "source": [
    "# while loop \n",
    "\n",
    "n = 1\n",
    "while n < 11:\n",
    "    print('the integer is : ',n ,'and ' ,'the square of int is :', n**2)\n",
    "    n += 1"
   ]
  },
  {
   "cell_type": "code",
   "execution_count": 2,
   "id": "7c1ffa42-5b03-45aa-9a41-6554b34dd52f",
   "metadata": {},
   "outputs": [
    {
     "name": "stdin",
     "output_type": "stream",
     "text": [
      "enter num  2\n",
      "enter num  3\n",
      "enter num  4\n",
      "enter num  644\n",
      "enter num  5\n"
     ]
    },
    {
     "name": "stdout",
     "output_type": "stream",
     "text": [
      "[2, 3, 4, 644, 5]\n",
      "644\n"
     ]
    }
   ],
   "source": [
    "# write a program to accept 5 nums from user and display the largest and smallest no.\n",
    "\n",
    " \n",
    "n = 1\n",
    "ls = []\n",
    "while n < 6:\n",
    "    num = int(input('enter num '))\n",
    "    ls.append(num)\n",
    "    n += 1\n",
    "    \n",
    "print(ls)\n",
    "\n",
    "print(max(ls))"
   ]
  },
  {
   "cell_type": "code",
   "execution_count": 4,
   "id": "f06d4936-8f51-41fc-a303-50269123686f",
   "metadata": {},
   "outputs": [
    {
     "name": "stdin",
     "output_type": "stream",
     "text": [
      "enter number 4\n",
      "do you want to continue y\n",
      "enter number 5\n",
      "do you want to continue n\n"
     ]
    },
    {
     "name": "stdout",
     "output_type": "stream",
     "text": [
      "9\n"
     ]
    }
   ],
   "source": [
    "# write a program to get the no. till user wants and at the end sum those\n",
    "choose = 'y'\n",
    "sum = 0\n",
    "\n",
    "while choose == 'y':\n",
    "    num = int(input('enter number'))\n",
    "    sum = sum+num\n",
    "    choose = input('do you want to continue')\n",
    "print(sum)"
   ]
  },
  {
   "cell_type": "markdown",
   "id": "aa5ac836-cf25-4511-b48f-392a9e1583eb",
   "metadata": {},
   "source": [
    "FOR LOOP"
   ]
  },
  {
   "cell_type": "code",
   "execution_count": 5,
   "id": "180fd204-c3c3-47da-b604-424efb6f4ad5",
   "metadata": {},
   "outputs": [
    {
     "name": "stdin",
     "output_type": "stream",
     "text": [
      "enter name virat\n",
      "enter grade 90\n"
     ]
    },
    {
     "name": "stdout",
     "output_type": "stream",
     "text": [
      "{'virat': 90.0}\n"
     ]
    },
    {
     "name": "stdin",
     "output_type": "stream",
     "text": [
      "enter name rohit\n",
      "enter grade 99\n"
     ]
    },
    {
     "name": "stdout",
     "output_type": "stream",
     "text": [
      "{'virat': 90.0, 'rohit': 99.0}\n"
     ]
    },
    {
     "name": "stdin",
     "output_type": "stream",
     "text": [
      "enter name hardik\n",
      "enter grade 88\n"
     ]
    },
    {
     "name": "stdout",
     "output_type": "stream",
     "text": [
      "{'virat': 90.0, 'rohit': 99.0, 'hardik': 88.0}\n",
      "the name with highest grade is rohit with grade 99.0\n"
     ]
    }
   ],
   "source": [
    "n = 1\n",
    "my_dict = dict()\n",
    "while n < 4 :\n",
    "    the_name = input('enter name')\n",
    "    the_grade = float(input ('enter grade'))\n",
    "\n",
    "    my_dict[the_name] = the_grade\n",
    "    print(my_dict)\n",
    "    n = n+1\n",
    "\n",
    "    # print(my_dict)\n",
    "max_grade = 0\n",
    "max_grade_name = ''\n",
    "\n",
    "for name, grade in my_dict.items():\n",
    "    if grade > max_grade:\n",
    "        max_grade = grade\n",
    "        max_grade_name = name\n",
    "\n",
    "print(f'the name with highest grade is {max_grade_name} with grade {max_grade}')\n",
    "    "
   ]
  },
  {
   "cell_type": "code",
   "execution_count": null,
   "id": "57656414-530d-4f90-87ce-130ebd910b77",
   "metadata": {},
   "outputs": [],
   "source": []
  },
  {
   "cell_type": "markdown",
   "id": "3f9d263a-7f6d-4d74-92c8-df5200394b3a",
   "metadata": {},
   "source": [
    "NESTED LOOPS"
   ]
  },
  {
   "cell_type": "code",
   "execution_count": 6,
   "id": "a0e93a9b-8c1f-4bc2-a7a4-162b9b812c64",
   "metadata": {},
   "outputs": [
    {
     "name": "stdout",
     "output_type": "stream",
     "text": [
      "[2, 3, 4, 5]\n",
      "[2, 3, 4, 5]\n",
      "[2, 3, 4, 5]\n"
     ]
    }
   ],
   "source": [
    "rows = 3\n",
    "cols = 4\n",
    "matrix = []\n",
    "\n",
    "for i in range(rows):\n",
    "    row = []\n",
    "    for j in range(1, cols+1):\n",
    "        row.append(j+1)\n",
    "    matrix.append(row)\n",
    "# print(matrix)\n",
    "for i in matrix:\n",
    "    print(i)\n",
    "        \n",
    "   "
   ]
  },
  {
   "cell_type": "code",
   "execution_count": null,
   "id": "36e61428-994a-4753-aaa1-726dfa328e3a",
   "metadata": {},
   "outputs": [],
   "source": []
  },
  {
   "cell_type": "code",
   "execution_count": null,
   "id": "5bf0aa3d-ffa8-4ddc-8907-7bf0a73abcd3",
   "metadata": {},
   "outputs": [],
   "source": []
  },
  {
   "cell_type": "markdown",
   "id": "000879fe-3f80-49f3-b4a3-f2aa9ea224ec",
   "metadata": {},
   "source": [
    "pass (to perform nothing )\n",
    "\n",
    "break( to break the loop iteration or terminate the loop)\n",
    "\n",
    "continue(to skip a particular iteration)"
   ]
  },
  {
   "cell_type": "code",
   "execution_count": 8,
   "id": "a761eea8-61c9-4904-9201-66b76fc90139",
   "metadata": {},
   "outputs": [
    {
     "name": "stdout",
     "output_type": "stream",
     "text": [
      "h\n",
      "e\n",
      "l\n",
      "l\n",
      "o\n",
      " \n",
      "\n"
     ]
    }
   ],
   "source": [
    "string = 'hello python'\n",
    "\n",
    "for i in string:\n",
    "    print(i)\n",
    "    if i == ' ':\n",
    "        break\n",
    "\n",
    "print() "
   ]
  },
  {
   "cell_type": "code",
   "execution_count": 9,
   "id": "d07071ea-8632-4170-838d-bbc1c065499d",
   "metadata": {},
   "outputs": [
    {
     "name": "stdout",
     "output_type": "stream",
     "text": [
      "hello pytho\n"
     ]
    }
   ],
   "source": [
    "container = ''\n",
    "count = 0\n",
    "for j in string:\n",
    "    container = container+j\n",
    "    if j == 'o':\n",
    "        count = count+1\n",
    "        \n",
    "    if count == 2:\n",
    "        break\n",
    "print(container)"
   ]
  },
  {
   "cell_type": "code",
   "execution_count": null,
   "id": "d690c25a-7f1d-44d2-80fb-201ac3aff803",
   "metadata": {},
   "outputs": [],
   "source": []
  },
  {
   "cell_type": "markdown",
   "id": "223f2488-4b9d-47e5-851a-7ccc01c79d5e",
   "metadata": {},
   "source": [
    "PASS STATEMENT"
   ]
  },
  {
   "cell_type": "code",
   "execution_count": 11,
   "id": "080553d8-36b7-4515-b403-1c1af99b94c6",
   "metadata": {},
   "outputs": [
    {
     "name": "stdout",
     "output_type": "stream",
     "text": [
      "12\n",
      "14\n"
     ]
    }
   ],
   "source": [
    "for i in range(11,15):\n",
    "    if i%2 == 0:\n",
    "        print(i)\n",
    "    else:\n",
    "        pass"
   ]
  },
  {
   "cell_type": "code",
   "execution_count": 12,
   "id": "3da137ba-40ce-47ea-b421-9933c0e34c43",
   "metadata": {},
   "outputs": [
    {
     "name": "stdout",
     "output_type": "stream",
     "text": [
      "1 * 1 = 1\t1 * 2 = 2\t1 * 4 = 4\t1 * 5 = 5\t1 * 7 = 7\t1 * 8 = 8\t1 * 10 = 10\t\n",
      "2 * 1 = 2\t2 * 2 = 4\t2 * 4 = 8\t2 * 5 = 10\t2 * 7 = 14\t2 * 8 = 16\t2 * 10 = 20\t\n",
      "\n",
      "4 * 1 = 4\t4 * 2 = 8\t4 * 4 = 16\t4 * 5 = 20\t4 * 7 = 28\t4 * 8 = 32\t4 * 10 = 40\t\n",
      "5 * 1 = 5\t5 * 2 = 10\t5 * 4 = 20\t5 * 5 = 25\t5 * 7 = 35\t5 * 8 = 40\t5 * 10 = 50\t\n",
      "\n",
      "7 * 1 = 7\t7 * 2 = 14\t7 * 4 = 28\t7 * 5 = 35\t7 * 7 = 49\t7 * 8 = 56\t7 * 10 = 70\t\n",
      "8 * 1 = 8\t8 * 2 = 16\t8 * 4 = 32\t8 * 5 = 40\t8 * 7 = 56\t8 * 8 = 64\t8 * 10 = 80\t\n",
      "\n",
      "10 * 1 = 10\t10 * 2 = 20\t10 * 4 = 40\t10 * 5 = 50\t10 * 7 = 70\t10 * 8 = 80\t10 * 10 = 100\t\n"
     ]
    }
   ],
   "source": [
    "# Create a multiplication table from 1 to 10, skipping multiples of 3\n",
    "\n",
    "rows = 10\n",
    "cols = 10\n",
    "skip_multiple = 3\n",
    "\n",
    "for i in range(1, rows + 1):\n",
    "    for j in range(1, cols + 1):\n",
    "        product = i * j\n",
    "        if product % skip_multiple == 0:\n",
    "            continue  # Skip printing multiples of 3\n",
    "        print(f\"{i} * {j} = {product}\", end='\\t')\n",
    "    print()  # Newline after each row\n"
   ]
  },
  {
   "cell_type": "code",
   "execution_count": null,
   "id": "bd40f64d-9f12-4613-a165-dae4817525db",
   "metadata": {},
   "outputs": [],
   "source": []
  },
  {
   "cell_type": "code",
   "execution_count": null,
   "id": "6b984893-01f9-40d6-bfca-4290f1596e82",
   "metadata": {},
   "outputs": [],
   "source": []
  },
  {
   "cell_type": "markdown",
   "id": "681d19f3-2f67-42a2-97d2-6f8443eff414",
   "metadata": {},
   "source": [
    "NOTE ---------  else with loop\n",
    "\n",
    "Python also allows us to use the else condition with for loops.\n",
    "\n",
    "The else block just after for/while is executed only when the loop is NOT terminated by a break statement.\n"
   ]
  },
  {
   "cell_type": "code",
   "execution_count": 14,
   "id": "13333f6a-bb83-44fe-99f0-14eab1e05b25",
   "metadata": {},
   "outputs": [
    {
     "name": "stdout",
     "output_type": "stream",
     "text": [
      "1\n",
      "2\n",
      "3\n",
      "No Break\n"
     ]
    }
   ],
   "source": [
    "for i in range(1, 4): \n",
    "\tprint(i) \n",
    "else: # Executed because no break in for \n",
    "\tprint(\"No Break\") \n"
   ]
  },
  {
   "cell_type": "code",
   "execution_count": null,
   "id": "a6649be4-78da-4bca-8c2c-ce51432d34fc",
   "metadata": {},
   "outputs": [],
   "source": []
  },
  {
   "cell_type": "code",
   "execution_count": null,
   "id": "7f5969aa-4673-4511-a68c-f445588e0fd1",
   "metadata": {},
   "outputs": [],
   "source": []
  },
  {
   "cell_type": "code",
   "execution_count": null,
   "id": "40eed4ee-153e-4326-8c4b-ba0e05e00fec",
   "metadata": {},
   "outputs": [],
   "source": []
  },
  {
   "cell_type": "code",
   "execution_count": null,
   "id": "5baa0d81-4bb2-488a-897f-7991e0b5d005",
   "metadata": {},
   "outputs": [],
   "source": []
  },
  {
   "cell_type": "code",
   "execution_count": null,
   "id": "ff310fb0-39e0-44d3-a169-61dfe7061f28",
   "metadata": {},
   "outputs": [],
   "source": []
  },
  {
   "cell_type": "code",
   "execution_count": null,
   "id": "4c8555e5-09d3-4c2d-b7c9-445f11dacfbf",
   "metadata": {},
   "outputs": [],
   "source": []
  }
 ],
 "metadata": {
  "kernelspec": {
   "display_name": "Python 3 (ipykernel)",
   "language": "python",
   "name": "python3"
  },
  "language_info": {
   "codemirror_mode": {
    "name": "ipython",
    "version": 3
   },
   "file_extension": ".py",
   "mimetype": "text/x-python",
   "name": "python",
   "nbconvert_exporter": "python",
   "pygments_lexer": "ipython3",
   "version": "3.12.4"
  }
 },
 "nbformat": 4,
 "nbformat_minor": 5
}
