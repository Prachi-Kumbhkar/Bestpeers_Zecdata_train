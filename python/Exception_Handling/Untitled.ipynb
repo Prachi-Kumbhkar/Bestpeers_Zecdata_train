{
 "cells": [
  {
   "cell_type": "markdown",
   "id": "26b2ac8b-8b2d-416a-af2f-6dcee0338d02",
   "metadata": {},
   "source": [
    "Errors -- stops the execution of program\n",
    "\n",
    "# There are two types of errors\n",
    "\n",
    "1.. syntex (syntactically wrong)\n",
    "2 ..Exceptions (syntactically true but logically wrong)\n",
    "\n",
    "Types of exceptions ....\n",
    "\n",
    "1.. Type Error -- \n",
    "1. Unsupported Operation Between Two Types\n",
    "2. Calling a non-callable Identifier\n",
    "3. Incorrect type of List Index\n",
    "4.  Iterating Through a non-iterative Identifier\n",
    "5.   Passing an Argument of the Wrong Type to a Function\n",
    "   \n",
    "2 .. NameError--  This exception is raised when a variable or function name is not found in the current scope.\n",
    "\n",
    "3..IndexError: This exception is raised when an index is out of range for a list, tuple, or other sequence types.\n",
    "\n",
    "4 ..IOError: This exception is raised when an I/O operation, such as reading or writing a file, fails due to an input/output error.\n",
    "\n",
    "5..ZeroDivisionError: This exception is raised when an attempt is made to divide a number by zero.\n",
    "\n",
    "6 ..ImportError: This exception is raised when an import statement fails to find or load a module.\n",
    "\n",
    "7..  Value Error :when an invalid value is assigned to a variable or passed to a function while calling it.or during unpacking it occurs "
   ]
  },
  {
   "cell_type": "markdown",
   "id": "52092faa-36a9-41c9-9b17-cb58792c3e17",
   "metadata": {},
   "source": [
    "# syntax error"
   ]
  },
  {
   "cell_type": "code",
   "execution_count": 3,
   "id": "5a757255-d4ab-436b-ad65-f878ab2c5f9b",
   "metadata": {},
   "outputs": [
    {
     "ename": "SyntaxError",
     "evalue": "expected ':' (3918173280.py, line 3)",
     "output_type": "error",
     "traceback": [
      "\u001b[0;36m  Cell \u001b[0;32mIn[3], line 3\u001b[0;36m\u001b[0m\n\u001b[0;31m    if(amount>2000)\u001b[0m\n\u001b[0m                    ^\u001b[0m\n\u001b[0;31mSyntaxError\u001b[0m\u001b[0;31m:\u001b[0m expected ':'\n"
     ]
    }
   ],
   "source": [
    "amount = 10000\n",
    "\n",
    "if(amount>2000) \n",
    "\tprint(\"You are eligible to purchase Dsa Self Paced\") \n",
    "\t\n"
   ]
  },
  {
   "cell_type": "code",
   "execution_count": 4,
   "id": "bb00e687-566c-4704-8d08-6eadb07d10c5",
   "metadata": {},
   "outputs": [],
   "source": [
    "# the above creating syntax error since according to python a colon should be there at a specified place"
   ]
  },
  {
   "cell_type": "code",
   "execution_count": null,
   "id": "d8a2f316-e956-4739-953c-c553fada245f",
   "metadata": {},
   "outputs": [],
   "source": []
  },
  {
   "cell_type": "code",
   "execution_count": null,
   "id": "60526757-a73e-4839-bbe8-04499dbdcdc9",
   "metadata": {},
   "outputs": [],
   "source": []
  },
  {
   "cell_type": "markdown",
   "id": "431cb828-03e4-4178-8d48-52c7deb64d13",
   "metadata": {},
   "source": [
    "# Exceptions"
   ]
  },
  {
   "cell_type": "code",
   "execution_count": 9,
   "id": "51ff4bc9-0319-4f57-9f79-cdf98dcf2e80",
   "metadata": {},
   "outputs": [
    {
     "name": "stdout",
     "output_type": "stream",
     "text": [
      "6.0\n"
     ]
    }
   ],
   "source": [
    "a = 12\n",
    "b= 2\n",
    "\n",
    "print(a/b)\n",
    "\n"
   ]
  },
  {
   "cell_type": "code",
   "execution_count": null,
   "id": "bbfeb502-6dad-450f-8436-e9036ad78ca1",
   "metadata": {},
   "outputs": [],
   "source": []
  },
  {
   "cell_type": "markdown",
   "id": "7a6343a5-14d4-40e9-99ae-e3839c2cbc67",
   "metadata": {},
   "source": [
    "## Zero division error"
   ]
  },
  {
   "cell_type": "code",
   "execution_count": 10,
   "id": "65d10f90-87ef-4c2f-ab07-f6e84f742baf",
   "metadata": {},
   "outputs": [
    {
     "ename": "ZeroDivisionError",
     "evalue": "division by zero",
     "output_type": "error",
     "traceback": [
      "\u001b[0;31m---------------------------------------------------------------------------\u001b[0m",
      "\u001b[0;31mZeroDivisionError\u001b[0m                         Traceback (most recent call last)",
      "Cell \u001b[0;32mIn[10], line 4\u001b[0m\n\u001b[1;32m      1\u001b[0m a \u001b[38;5;241m=\u001b[39m \u001b[38;5;241m12\u001b[39m\n\u001b[1;32m      2\u001b[0m b \u001b[38;5;241m=\u001b[39m \u001b[38;5;241m0\u001b[39m\n\u001b[0;32m----> 4\u001b[0m \u001b[38;5;28mprint\u001b[39m(a\u001b[38;5;241m/\u001b[39mb)\n",
      "\u001b[0;31mZeroDivisionError\u001b[0m: division by zero"
     ]
    }
   ],
   "source": [
    "a = 12\n",
    "b = 0\n",
    "\n",
    "print(a/b)"
   ]
  },
  {
   "cell_type": "markdown",
   "id": "2acc8a19-801d-4810-99d5-078269dec3a1",
   "metadata": {},
   "source": [
    "#### Handle"
   ]
  },
  {
   "cell_type": "code",
   "execution_count": 17,
   "id": "e4be8d91-0053-42f5-86db-e5b6004f76ef",
   "metadata": {},
   "outputs": [
    {
     "name": "stdout",
     "output_type": "stream",
     "text": [
      "this will raise zero division error, since 0 is given\n"
     ]
    }
   ],
   "source": [
    "def divide(a,b):\n",
    "    try:\n",
    "        print(a/b)\n",
    "    except ZeroDivisionError:\n",
    "        print('this will raise zero division error, since 0 is given')\n",
    "    \n",
    "\n",
    "divide(22,0)"
   ]
  },
  {
   "cell_type": "code",
   "execution_count": null,
   "id": "c30de9fe-851d-4324-8d3c-5825575b4151",
   "metadata": {},
   "outputs": [],
   "source": []
  },
  {
   "cell_type": "markdown",
   "id": "39ac4382-feef-4429-adf7-8a99d89e0e4a",
   "metadata": {},
   "source": [
    "## Type error"
   ]
  },
  {
   "cell_type": "code",
   "execution_count": 22,
   "id": "f74919c5-2d8a-4c81-bbfc-d4dba323c7ef",
   "metadata": {},
   "outputs": [
    {
     "ename": "TypeError",
     "evalue": "unsupported operand type(s) for +=: 'int' and 'str'",
     "output_type": "error",
     "traceback": [
      "\u001b[0;31m---------------------------------------------------------------------------\u001b[0m",
      "\u001b[0;31mTypeError\u001b[0m                                 Traceback (most recent call last)",
      "Cell \u001b[0;32mIn[22], line 10\u001b[0m\n\u001b[1;32m      7\u001b[0m         \u001b[38;5;28;01melse\u001b[39;00m:\n\u001b[1;32m      8\u001b[0m             ls_upper \u001b[38;5;241m+\u001b[39m\u001b[38;5;241m=\u001b[39m i\n\u001b[0;32m---> 10\u001b[0m small_letter(\u001b[38;5;124m'\u001b[39m\u001b[38;5;124mhellOpyTHon\u001b[39m\u001b[38;5;124m'\u001b[39m)\n",
      "Cell \u001b[0;32mIn[22], line 8\u001b[0m, in \u001b[0;36msmall_letter\u001b[0;34m(word)\u001b[0m\n\u001b[1;32m      6\u001b[0m     ls_lower \u001b[38;5;241m+\u001b[39m\u001b[38;5;241m=\u001b[39m i\n\u001b[1;32m      7\u001b[0m \u001b[38;5;28;01melse\u001b[39;00m:\n\u001b[0;32m----> 8\u001b[0m     ls_upper \u001b[38;5;241m+\u001b[39m\u001b[38;5;241m=\u001b[39m i\n",
      "\u001b[0;31mTypeError\u001b[0m: unsupported operand type(s) for +=: 'int' and 'str'"
     ]
    }
   ],
   "source": [
    "\n",
    "\n",
    "def small_letter(word):\n",
    "    ls_lower = ''\n",
    "    ls_upper = 2\n",
    "    for i in word:\n",
    "        if i.islower():\n",
    "            ls_lower += i\n",
    "        else:\n",
    "            ls_upper += i\n",
    "\n",
    "small_letter('hellOpyTHon')\n",
    "            "
   ]
  },
  {
   "cell_type": "code",
   "execution_count": null,
   "id": "88731f1c-846f-414c-9060-525b2bd037c4",
   "metadata": {},
   "outputs": [],
   "source": []
  },
  {
   "cell_type": "markdown",
   "id": "a57d1745-ab97-42b8-a2f0-681261191ea5",
   "metadata": {},
   "source": [
    "#### Handle"
   ]
  },
  {
   "cell_type": "code",
   "execution_count": null,
   "id": "713aa4ac-49e3-438e-93b4-cb6795a64fdb",
   "metadata": {},
   "outputs": [],
   "source": []
  },
  {
   "cell_type": "code",
   "execution_count": 27,
   "id": "d913c63a-0c02-429e-a00e-431480419ca9",
   "metadata": {},
   "outputs": [
    {
     "name": "stdout",
     "output_type": "stream",
     "text": [
      "h\n",
      "he\n",
      "hel\n",
      "hell\n",
      "Type Error , operands have different datatype\n",
      "hellp\n",
      "hellpy\n",
      "Type Error , operands have different datatype\n",
      "Type Error , operands have different datatype\n",
      "hellpyo\n",
      "hellpyon\n"
     ]
    }
   ],
   "source": [
    "def small_letter(word):\n",
    "    ls_lower = ''\n",
    "    ls_upper = 2\n",
    "\n",
    "    for i in word:\n",
    "        try:\n",
    "            if i.islower():\n",
    "                ls_lower += i\n",
    "                print(ls_lower)\n",
    "            else:\n",
    "                ls_upper += i\n",
    "        except TypeError:\n",
    "            print('Type Error , operands have different datatype')\n",
    "\n",
    "\n",
    "small_letter('hellOpyTHon')\n",
    "        "
   ]
  },
  {
   "cell_type": "code",
   "execution_count": null,
   "id": "a6b5c031-b3ec-4b13-9358-b8f9c5ba4031",
   "metadata": {},
   "outputs": [],
   "source": []
  },
  {
   "cell_type": "markdown",
   "id": "db7e980a-06d8-4f4e-8a5d-4abdf0524a64",
   "metadata": {},
   "source": [
    "##### Calling a non-callable Identifier"
   ]
  },
  {
   "cell_type": "code",
   "execution_count": 31,
   "id": "7d49111d-b2f0-4d50-b278-4c396db7a964",
   "metadata": {},
   "outputs": [
    {
     "ename": "TypeError",
     "evalue": "'str' object is not callable",
     "output_type": "error",
     "traceback": [
      "\u001b[0;31m---------------------------------------------------------------------------\u001b[0m",
      "\u001b[0;31mTypeError\u001b[0m                                 Traceback (most recent call last)",
      "Cell \u001b[0;32mIn[31], line 2\u001b[0m\n\u001b[1;32m      1\u001b[0m var_1 \u001b[38;5;241m=\u001b[39m \u001b[38;5;124m'\u001b[39m\u001b[38;5;124mhello geeks\u001b[39m\u001b[38;5;124m'\u001b[39m\n\u001b[0;32m----> 2\u001b[0m \u001b[38;5;28mprint\u001b[39m(var_1())\n\u001b[1;32m      4\u001b[0m var_2\u001b[38;5;241m=\u001b[39m [\u001b[38;5;241m1\u001b[39m,\u001b[38;5;241m2\u001b[39m,\u001b[38;5;241m3\u001b[39m,\u001b[38;5;241m0\u001b[39m]\n\u001b[1;32m      5\u001b[0m \u001b[38;5;28mprint\u001b[39m(var_2())\n",
      "\u001b[0;31mTypeError\u001b[0m: 'str' object is not callable"
     ]
    }
   ],
   "source": [
    "var_1 = 'hello geeks'\n",
    "print(var_1())\n"
   ]
  },
  {
   "cell_type": "code",
   "execution_count": 32,
   "id": "f45442e2-4c1d-40af-8b74-18004c801501",
   "metadata": {},
   "outputs": [
    {
     "ename": "TypeError",
     "evalue": "'list' object is not callable",
     "output_type": "error",
     "traceback": [
      "\u001b[0;31m---------------------------------------------------------------------------\u001b[0m",
      "\u001b[0;31mTypeError\u001b[0m                                 Traceback (most recent call last)",
      "Cell \u001b[0;32mIn[32], line 2\u001b[0m\n\u001b[1;32m      1\u001b[0m var_2\u001b[38;5;241m=\u001b[39m [\u001b[38;5;241m1\u001b[39m,\u001b[38;5;241m2\u001b[39m,\u001b[38;5;241m3\u001b[39m,\u001b[38;5;241m0\u001b[39m]\n\u001b[0;32m----> 2\u001b[0m \u001b[38;5;28mprint\u001b[39m(var_2())\n",
      "\u001b[0;31mTypeError\u001b[0m: 'list' object is not callable"
     ]
    }
   ],
   "source": [
    "\n",
    "var_2= [1,2,3,0]\n",
    "print(var_2())"
   ]
  },
  {
   "cell_type": "code",
   "execution_count": null,
   "id": "5b702492-a2da-481b-81d4-313f7d22e601",
   "metadata": {},
   "outputs": [],
   "source": []
  },
  {
   "cell_type": "code",
   "execution_count": 37,
   "id": "3ea0f899-0f9a-4463-bd78-36686d08b4e4",
   "metadata": {},
   "outputs": [
    {
     "name": "stdout",
     "output_type": "stream",
     "text": [
      "Type Error\n",
      "not callable\n"
     ]
    }
   ],
   "source": [
    "def identifier(word):\n",
    "    try :\n",
    "        word()\n",
    "    except TypeError:\n",
    "        print('Type Error')\n",
    "        print('not callable')\n",
    "\n",
    "identifier([33,44,'pyhton'])"
   ]
  },
  {
   "cell_type": "code",
   "execution_count": null,
   "id": "5f78c6c8-65a7-4d55-afa4-c1af1ff4c606",
   "metadata": {},
   "outputs": [],
   "source": []
  },
  {
   "cell_type": "code",
   "execution_count": null,
   "id": "ac01c8a9-3f98-4b18-9702-6bb2d2d3d288",
   "metadata": {},
   "outputs": [],
   "source": []
  },
  {
   "cell_type": "markdown",
   "id": "470e188d-1ebb-4833-a047-b0ef978922ee",
   "metadata": {},
   "source": [
    "##### Passing an Argument of the Wrong Type to a Function"
   ]
  },
  {
   "cell_type": "code",
   "execution_count": null,
   "id": "94083056-669a-43fc-83de-4bf4d5bdf6bb",
   "metadata": {},
   "outputs": [],
   "source": []
  },
  {
   "cell_type": "code",
   "execution_count": 42,
   "id": "bee1e953-c4ae-4413-9033-84d9772ef183",
   "metadata": {},
   "outputs": [
    {
     "name": "stdout",
     "output_type": "stream",
     "text": [
      "8\n"
     ]
    }
   ],
   "source": [
    "def func(num):\n",
    "    return num **3\n",
    "    \n",
    "a = func(2)\n",
    "print(a)"
   ]
  },
  {
   "cell_type": "code",
   "execution_count": null,
   "id": "77ef3a54-6c1f-4866-86e7-29bf60762283",
   "metadata": {},
   "outputs": [],
   "source": []
  },
  {
   "cell_type": "code",
   "execution_count": 43,
   "id": "4a4e41bb-4a2c-420a-8ce3-7937de6427f1",
   "metadata": {},
   "outputs": [
    {
     "ename": "TypeError",
     "evalue": "unsupported operand type(s) for ** or pow(): 'str' and 'int'",
     "output_type": "error",
     "traceback": [
      "\u001b[0;31m---------------------------------------------------------------------------\u001b[0m",
      "\u001b[0;31mTypeError\u001b[0m                                 Traceback (most recent call last)",
      "Cell \u001b[0;32mIn[43], line 4\u001b[0m\n\u001b[1;32m      1\u001b[0m \u001b[38;5;28;01mdef\u001b[39;00m \u001b[38;5;21mfunc\u001b[39m(num):\n\u001b[1;32m      2\u001b[0m     \u001b[38;5;28;01mreturn\u001b[39;00m num \u001b[38;5;241m*\u001b[39m\u001b[38;5;241m*\u001b[39m\u001b[38;5;241m3\u001b[39m\n\u001b[0;32m----> 4\u001b[0m a \u001b[38;5;241m=\u001b[39m func(\u001b[38;5;124m'\u001b[39m\u001b[38;5;124mhi\u001b[39m\u001b[38;5;124m'\u001b[39m)\n\u001b[1;32m      5\u001b[0m \u001b[38;5;28mprint\u001b[39m(a)\n",
      "Cell \u001b[0;32mIn[43], line 2\u001b[0m, in \u001b[0;36mfunc\u001b[0;34m(num)\u001b[0m\n\u001b[1;32m      1\u001b[0m \u001b[38;5;28;01mdef\u001b[39;00m \u001b[38;5;21mfunc\u001b[39m(num):\n\u001b[0;32m----> 2\u001b[0m     \u001b[38;5;28;01mreturn\u001b[39;00m num \u001b[38;5;241m*\u001b[39m\u001b[38;5;241m*\u001b[39m\u001b[38;5;241m3\u001b[39m\n",
      "\u001b[0;31mTypeError\u001b[0m: unsupported operand type(s) for ** or pow(): 'str' and 'int'"
     ]
    }
   ],
   "source": [
    "def func(num):\n",
    "    return num **3\n",
    "    \n",
    "a = func('hi')\n",
    "print(a)"
   ]
  },
  {
   "cell_type": "code",
   "execution_count": null,
   "id": "7c904ffb-8dee-4e5d-97cc-48816c0d2b8f",
   "metadata": {},
   "outputs": [],
   "source": []
  },
  {
   "cell_type": "code",
   "execution_count": 45,
   "id": "38365588-34ab-41dd-8d68-beb1fa65f40f",
   "metadata": {},
   "outputs": [
    {
     "name": "stdout",
     "output_type": "stream",
     "text": [
      "You have passed a wrong type argument to function\n",
      "None\n"
     ]
    }
   ],
   "source": [
    "def func(num):\n",
    "    try:\n",
    "        return num **3\n",
    "    except TypeError:\n",
    "        print('You have passed a wrong type argument to function')\n",
    "        \n",
    "a = func('hi')\n",
    "print(a)"
   ]
  },
  {
   "cell_type": "code",
   "execution_count": null,
   "id": "d6cc93df-0425-4cf6-bdba-478c7449b68e",
   "metadata": {},
   "outputs": [],
   "source": []
  },
  {
   "cell_type": "code",
   "execution_count": 76,
   "id": "1896b4d7-7b48-49ae-b167-bf286ed52ed2",
   "metadata": {},
   "outputs": [
    {
     "name": "stdout",
     "output_type": "stream",
     "text": [
      "11.0\n",
      "0.23\n",
      "4.0\n",
      "5.0\n",
      "0.6\n"
     ]
    }
   ],
   "source": [
    "def func(*args):\n",
    "    for arg in args:\n",
    "        print( float(arg))\n",
    "\n",
    "func(11,0.23,4,5,0.6)"
   ]
  },
  {
   "cell_type": "code",
   "execution_count": 77,
   "id": "ef98cc29-e6a9-4c17-aca1-26c6bdd4255d",
   "metadata": {},
   "outputs": [
    {
     "name": "stdout",
     "output_type": "stream",
     "text": [
      "121\n"
     ]
    },
    {
     "ename": "TypeError",
     "evalue": "unsupported operand type(s) for ** or pow(): 'str' and 'int'",
     "output_type": "error",
     "traceback": [
      "\u001b[0;31m---------------------------------------------------------------------------\u001b[0m",
      "\u001b[0;31mTypeError\u001b[0m                                 Traceback (most recent call last)",
      "Cell \u001b[0;32mIn[77], line 9\u001b[0m\n\u001b[1;32m      7\u001b[0m generator \u001b[38;5;241m=\u001b[39m func(\u001b[38;5;241m11\u001b[39m, \u001b[38;5;124m'\u001b[39m\u001b[38;5;124mhi\u001b[39m\u001b[38;5;124m'\u001b[39m, \u001b[38;5;241m4\u001b[39m, \u001b[38;5;241m5\u001b[39m, \u001b[38;5;241m0.6\u001b[39m)\n\u001b[1;32m      8\u001b[0m \u001b[38;5;28mprint\u001b[39m(\u001b[38;5;28mnext\u001b[39m(generator))\n\u001b[0;32m----> 9\u001b[0m \u001b[38;5;28mprint\u001b[39m(\u001b[38;5;28mnext\u001b[39m(generator))\n\u001b[1;32m     10\u001b[0m \u001b[38;5;28mprint\u001b[39m(\u001b[38;5;28mnext\u001b[39m(generator))\n\u001b[1;32m     11\u001b[0m \u001b[38;5;28mprint\u001b[39m(\u001b[38;5;28mnext\u001b[39m(generator))\n",
      "Cell \u001b[0;32mIn[77], line 3\u001b[0m, in \u001b[0;36mfunc\u001b[0;34m(*args)\u001b[0m\n\u001b[1;32m      1\u001b[0m \u001b[38;5;28;01mdef\u001b[39;00m \u001b[38;5;21mfunc\u001b[39m(\u001b[38;5;241m*\u001b[39margs):\n\u001b[1;32m      2\u001b[0m     \u001b[38;5;28;01mfor\u001b[39;00m arg \u001b[38;5;129;01min\u001b[39;00m args:\n\u001b[0;32m----> 3\u001b[0m         a \u001b[38;5;241m=\u001b[39m arg\u001b[38;5;241m*\u001b[39m\u001b[38;5;241m*\u001b[39m\u001b[38;5;241m2\u001b[39m\n\u001b[1;32m      4\u001b[0m         \u001b[38;5;28;01myield\u001b[39;00m a\n",
      "\u001b[0;31mTypeError\u001b[0m: unsupported operand type(s) for ** or pow(): 'str' and 'int'"
     ]
    }
   ],
   "source": [
    "\n",
    "def func(*args):\n",
    "    for arg in args:\n",
    "        a = arg**2\n",
    "        yield a\n",
    "    \n",
    "\n",
    "generator = func(11, 'hi', 4, 5, 0.6)\n",
    "print(next(generator))\n",
    "print(next(generator))\n",
    "print(next(generator))\n",
    "print(next(generator))"
   ]
  },
  {
   "cell_type": "code",
   "execution_count": null,
   "id": "61605363-877e-4d2d-8507-cf38f0ec7a2b",
   "metadata": {},
   "outputs": [],
   "source": []
  },
  {
   "cell_type": "code",
   "execution_count": null,
   "id": "1bdc55f7-69e7-4ba6-910e-1db5cc9d79e9",
   "metadata": {},
   "outputs": [],
   "source": []
  },
  {
   "cell_type": "markdown",
   "id": "3084dd5e-aaa7-46b7-a1e2-8ce8065b9dae",
   "metadata": {},
   "source": [
    "## Value Errors"
   ]
  },
  {
   "cell_type": "code",
   "execution_count": null,
   "id": "d6368cba-c454-4fa2-a6f7-744c94b9c980",
   "metadata": {},
   "outputs": [],
   "source": []
  },
  {
   "cell_type": "code",
   "execution_count": null,
   "id": "3d608b67-6125-43d3-874c-f3c8879f9c5d",
   "metadata": {},
   "outputs": [],
   "source": []
  },
  {
   "cell_type": "markdown",
   "id": "77ed9b22-b85b-489e-a6e7-1fc00e13735b",
   "metadata": {},
   "source": [
    "The isinstance function in Python is used to check if an object is an instance or subclass of a particular class or a tuple of classes. It returns True if the object is an instance of the class (or any class derived from it),\n",
    "and False otherwise."
   ]
  },
  {
   "cell_type": "code",
   "execution_count": null,
   "id": "c2c74096-8492-4b87-9ac5-3e062eee0609",
   "metadata": {},
   "outputs": [],
   "source": []
  },
  {
   "cell_type": "code",
   "execution_count": 83,
   "id": "08456be0-f996-4bf1-8dd6-6b2faf3767b8",
   "metadata": {},
   "outputs": [
    {
     "name": "stdout",
     "output_type": "stream",
     "text": [
      "42 is an integer\n"
     ]
    }
   ],
   "source": [
    "num = 42  # Replace this with the variable you want to check\n",
    "\n",
    "if isinstance(num, int):\n",
    "    print(f\"{num} is an integer\")\n",
    "else:\n",
    "    print(f\"{num} is not an integer\")\n"
   ]
  },
  {
   "cell_type": "code",
   "execution_count": null,
   "id": "2ed5a01b-f594-4cd5-805c-a6b0675627c3",
   "metadata": {},
   "outputs": [],
   "source": []
  },
  {
   "cell_type": "code",
   "execution_count": 84,
   "id": "08b357d7-cc3b-43fb-93d1-d0d9715239bb",
   "metadata": {},
   "outputs": [
    {
     "ename": "ValueError",
     "evalue": "invalid literal for int() with base 10: 'hello'",
     "output_type": "error",
     "traceback": [
      "\u001b[0;31m---------------------------------------------------------------------------\u001b[0m",
      "\u001b[0;31mValueError\u001b[0m                                Traceback (most recent call last)",
      "Cell \u001b[0;32mIn[84], line 2\u001b[0m\n\u001b[1;32m      1\u001b[0m num \u001b[38;5;241m=\u001b[39m \u001b[38;5;124m'\u001b[39m\u001b[38;5;124mhello\u001b[39m\u001b[38;5;124m'\u001b[39m\n\u001b[0;32m----> 2\u001b[0m \u001b[38;5;28mprint\u001b[39m(\u001b[38;5;28mint\u001b[39m(num))\n",
      "\u001b[0;31mValueError\u001b[0m: invalid literal for int() with base 10: 'hello'"
     ]
    }
   ],
   "source": [
    "num = 'hello'\n",
    "print(int(num))"
   ]
  },
  {
   "cell_type": "code",
   "execution_count": null,
   "id": "e2520a2f-4622-4c84-9994-29b817f867f9",
   "metadata": {},
   "outputs": [],
   "source": []
  },
  {
   "cell_type": "code",
   "execution_count": 86,
   "id": "b7566429-ce4e-41db-9bcd-5375de2597dc",
   "metadata": {},
   "outputs": [
    {
     "name": "stdout",
     "output_type": "stream",
     "text": [
      "ValueError occurred: invalid literal for int() with base 10: 'hello'\n"
     ]
    }
   ],
   "source": [
    "try:\n",
    "    num = int(\"hello\")\n",
    "except ValueError as e:\n",
    "    print(f\"ValueError occurred: {e}\")\n",
    "        "
   ]
  },
  {
   "cell_type": "code",
   "execution_count": null,
   "id": "a2420c58-1662-4842-a61f-e0599e83548e",
   "metadata": {},
   "outputs": [],
   "source": []
  },
  {
   "cell_type": "markdown",
   "id": "dbdab51e-ccd4-4518-9c9a-1cc768adcca7",
   "metadata": {},
   "source": [
    "import error\n",
    "\n",
    "“ImportError: Cannot Import Name.” This error occurs when the Python interpreter is unable to import a particular \n",
    "name or module within your code. "
   ]
  },
  {
   "cell_type": "code",
   "execution_count": null,
   "id": "0d3579d9-5f39-45cf-82ca-6ce278dba534",
   "metadata": {},
   "outputs": [],
   "source": []
  },
  {
   "cell_type": "code",
   "execution_count": null,
   "id": "541a1a9e-3a4c-4425-b7d7-657930bd683d",
   "metadata": {},
   "outputs": [],
   "source": []
  }
 ],
 "metadata": {
  "kernelspec": {
   "display_name": "Python 3 (ipykernel)",
   "language": "python",
   "name": "python3"
  },
  "language_info": {
   "codemirror_mode": {
    "name": "ipython",
    "version": 3
   },
   "file_extension": ".py",
   "mimetype": "text/x-python",
   "name": "python",
   "nbconvert_exporter": "python",
   "pygments_lexer": "ipython3",
   "version": "3.12.4"
  }
 },
 "nbformat": 4,
 "nbformat_minor": 5
}
