{
 "cells": [
  {
   "cell_type": "markdown",
   "id": "49983eac-79d0-449d-aa50-539b249acd73",
   "metadata": {},
   "source": [
    "### conditionals statement is used to control the flow of execution of code\n",
    "### (if else elif nestedif)"
   ]
  },
  {
   "cell_type": "markdown",
   "id": "db2e9d56-6e3e-4680-baaa-b508caa5b821",
   "metadata": {},
   "source": [
    "NESTED IF"
   ]
  },
  {
   "cell_type": "code",
   "execution_count": 2,
   "id": "9a396470-795b-4408-b8a5-3f76efddca9d",
   "metadata": {},
   "outputs": [
    {
     "name": "stdout",
     "output_type": "stream",
     "text": [
      "x is 5 and y is something else\n"
     ]
    }
   ],
   "source": [
    "x = 5\n",
    "y = 4\n",
    "\n",
    "if x == 5:\n",
    "\tif y == 10:\n",
    "\t    print(\"x is 5 and y is 10\")\n",
    "\telse:\n",
    "\t    print(\"x is 5 and y is something else\")\n",
    "else:\n",
    "\tprint(\"x is something else\")"
   ]
  },
  {
   "cell_type": "code",
   "execution_count": null,
   "id": "02979f01-897f-4b14-90d5-75d303994400",
   "metadata": {},
   "outputs": [],
   "source": [
    "\n",
    "price=100\n",
    "quantity=10\n",
    "amount = price*quantity\n",
    "if amount > 200:\n",
    "    if amount >1000:\n",
    "        print(\"The amount is greater than 1000\")\n",
    "    else:\n",
    "        if amount  800:\n",
    "            print(\"The amount is between 800 and 1000\")\n",
    "        elif amount  600:\n",
    "            print(\"The amount is between 600 and 1000\")\n",
    "        else:\n",
    "            print(\"The amount is between 400 and 1000\")\n",
    "elif amount == 200:\n",
    "    print(\"Amount is 200\")\n",
    "else:\n",
    "    print(\"Amount is less than 200\")"
   ]
  },
  {
   "cell_type": "code",
   "execution_count": null,
   "id": "c49f3379-6f8c-4043-800b-50308d3c74c0",
   "metadata": {},
   "outputs": [],
   "source": []
  },
  {
   "cell_type": "markdown",
   "id": "9039985f-2f9d-4aba-82d7-f7206bbc6e5b",
   "metadata": {},
   "source": [
    "### conditonals with loops"
   ]
  },
  {
   "cell_type": "code",
   "execution_count": null,
   "id": "aed470e4-cb24-4ffb-8811-cf1d7d60c153",
   "metadata": {},
   "outputs": [],
   "source": []
  },
  {
   "cell_type": "code",
   "execution_count": 4,
   "id": "75f33a4d-010d-4910-9204-20ecc6fbdbd7",
   "metadata": {},
   "outputs": [
    {
     "name": "stdout",
     "output_type": "stream",
     "text": [
      "For List 1:\n",
      "list contains an even number\n"
     ]
    }
   ],
   "source": [
    "#check if an list consists   of even number \n",
    "\n",
    "def contains_even_number(l): \n",
    "\tfor ele in l: \n",
    "\t\tif ele % 2 == 0: \n",
    "\t\t\tprint (\"list contains an even number\") \n",
    "\t\t\tbreak\n",
    "\n",
    "\telse:\t \n",
    "\t\tprint (\"list does not contain an even number\") \n",
    "\n",
    "print (\"For List 1:\") \n",
    "contains_even_number([1, 9, 8]) \n",
    "\n"
   ]
  },
  {
   "cell_type": "code",
   "execution_count": null,
   "id": "b2b7377e-50fb-415c-a1df-08b015e58fcc",
   "metadata": {},
   "outputs": [],
   "source": []
  },
  {
   "cell_type": "markdown",
   "id": "81a7b5c4-8331-42c4-9abd-8b64c2162e9b",
   "metadata": {},
   "source": [
    "### conditionals with class"
   ]
  },
  {
   "cell_type": "code",
   "execution_count": 6,
   "id": "bda7d980-e4bc-4ce5-9972-f98cb1371a53",
   "metadata": {},
   "outputs": [
    {
     "name": "stdout",
     "output_type": "stream",
     "text": [
      "this is a cookie\n",
      "is awesome\n"
     ]
    }
   ],
   "source": [
    "class Food:\n",
    "    def __init__(self,food_type):\n",
    "        self.food_type = food_type\n",
    "\n",
    "    def is_awesome(self):\n",
    "         if self.food_type == 'cookie':\n",
    "            print ('this is a cookie')\n",
    "            print (\"is awesome\")\n",
    "         else:\n",
    "            print ('this is not a cookie not awesome')\n",
    "            print (\"not awesome\")\n",
    "\n",
    "\n",
    "Lotte_choco = Food('cookie')\n",
    "Lotte_choco.is_awesome()"
   ]
  },
  {
   "cell_type": "code",
   "execution_count": null,
   "id": "11cf2014-cb64-4036-a4ca-9ed41df48a31",
   "metadata": {},
   "outputs": [],
   "source": []
  },
  {
   "cell_type": "code",
   "execution_count": null,
   "id": "f564d457-3cad-4b88-9e5b-4513e670d143",
   "metadata": {},
   "outputs": [],
   "source": []
  },
  {
   "cell_type": "markdown",
   "id": "4811d0e7-463e-4cc6-b8d5-b896d3069f08",
   "metadata": {},
   "source": [
    "### conditional depending on external factors"
   ]
  },
  {
   "cell_type": "code",
   "execution_count": 7,
   "id": "e5dd5021-c24d-4ff3-878a-6632ab3dab4f",
   "metadata": {},
   "outputs": [
    {
     "name": "stdin",
     "output_type": "stream",
     "text": [
      "Enter a number:  6\n"
     ]
    },
    {
     "name": "stdout",
     "output_type": "stream",
     "text": [
      "You entered an even number.\n"
     ]
    }
   ],
   "source": [
    "user_input = input(\"Enter a number: \")\n",
    "\n",
    "if user_input.isdigit():\n",
    "    number = int(user_input)\n",
    "    if number % 2 == 0:\n",
    "        print(\"You entered an even number.\")\n",
    "    else:\n",
    "        print(\"You entered an odd number.\")\n",
    "else:\n",
    "    print(\"That's not a valid number.\")\n"
   ]
  },
  {
   "cell_type": "code",
   "execution_count": null,
   "id": "c56a46da-93a3-46a9-bbec-fb205316e06f",
   "metadata": {},
   "outputs": [],
   "source": []
  },
  {
   "cell_type": "markdown",
   "id": "fe0a70ed-5602-48e2-a3d4-a81ee176c728",
   "metadata": {},
   "source": [
    "### checking file existence"
   ]
  },
  {
   "cell_type": "code",
   "execution_count": null,
   "id": "0e56bf00-a830-4445-a98f-8d566fbd60d5",
   "metadata": {},
   "outputs": [],
   "source": []
  },
  {
   "cell_type": "code",
   "execution_count": 19,
   "id": "7844214a-683b-49e8-bad6-59b41c0775a2",
   "metadata": {},
   "outputs": [
    {
     "name": "stdout",
     "output_type": "stream",
     "text": [
      "The file 'append.py' does not exist.\n"
     ]
    }
   ],
   "source": [
    "import os\n",
    "\n",
    "file = 'append.py'\n",
    "\n",
    "myfile = os.path.exists(file)\n",
    "\n",
    "if myfile:\n",
    "    print(f\"The file '{file}' exists.\")\n",
    "    with open('append.py', 'r') as f:\n",
    "        content = f.read()\n",
    "        print(content)\n",
    "\n",
    "else:\n",
    "    print(f\"The file '{file}' does not exist.\")"
   ]
  },
  {
   "cell_type": "code",
   "execution_count": null,
   "id": "20319891-16de-4a65-9cc6-4b001ad79610",
   "metadata": {},
   "outputs": [],
   "source": []
  },
  {
   "cell_type": "code",
   "execution_count": null,
   "id": "75b2a4eb-f6a1-4331-a133-bd14f83f4947",
   "metadata": {},
   "outputs": [],
   "source": []
  }
 ],
 "metadata": {
  "kernelspec": {
   "display_name": "Python 3 (ipykernel)",
   "language": "python",
   "name": "python3"
  },
  "language_info": {
   "codemirror_mode": {
    "name": "ipython",
    "version": 3
   },
   "file_extension": ".py",
   "mimetype": "text/x-python",
   "name": "python",
   "nbconvert_exporter": "python",
   "pygments_lexer": "ipython3",
   "version": "3.12.4"
  }
 },
 "nbformat": 4,
 "nbformat_minor": 5
}
