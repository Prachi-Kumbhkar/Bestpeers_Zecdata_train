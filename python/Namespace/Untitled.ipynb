{
 "cells": [
  {
   "cell_type": "markdown",
   "id": "3381a26d-5916-45fd-8585-17a0c5bc7908",
   "metadata": {},
   "source": [
    "# Namespace"
   ]
  },
  {
   "cell_type": "markdown",
   "id": "4b06ac4c-3ee0-4f2c-bb8c-996945aaa6ee",
   "metadata": {},
   "source": [
    "Namespace is the container of identifier(var names, class , func names) that resolve naming conflicts..\n",
    "    \n",
    "Namespaces are used to distinguish between identical names in different contexts."
   ]
  },
  {
   "cell_type": "code",
   "execution_count": null,
   "id": "115ee0df-18b5-4e0c-91fc-3dcc9dc934a6",
   "metadata": {},
   "outputs": [],
   "source": []
  },
  {
   "cell_type": "code",
   "execution_count": 2,
   "id": "1014ad1e-666c-4063-bbb2-d306f67a2243",
   "metadata": {},
   "outputs": [
    {
     "name": "stdout",
     "output_type": "stream",
     "text": [
      "inner x\n",
      "outer x\n",
      "global x\n"
     ]
    }
   ],
   "source": [
    "# Global namespace\n",
    "x = \"global x\"\n",
    "\n",
    "def outer_function():\n",
    "    # Enclosing namespace\n",
    "    x = \"outer x\"\n",
    "    \n",
    "    def inner_function():\n",
    "        # Local namespace\n",
    "        x = \"inner x\"\n",
    "        print(x)  # Refers to local x\n",
    "    \n",
    "    inner_function()\n",
    "    print(x)  # Refers to enclosing x\n",
    "\n",
    "outer_function()\n",
    "print(x)  # Refers to global x\n"
   ]
  },
  {
   "cell_type": "code",
   "execution_count": null,
   "id": "16a55104-6b0f-462f-ba7c-bedb87c60673",
   "metadata": {},
   "outputs": [],
   "source": []
  },
  {
   "cell_type": "code",
   "execution_count": null,
   "id": "2222161a-cfee-4596-bde5-4c48068daf8d",
   "metadata": {},
   "outputs": [],
   "source": []
  },
  {
   "cell_type": "code",
   "execution_count": null,
   "id": "bf63d2bc-42f9-465b-a2c6-33453dce8d66",
   "metadata": {},
   "outputs": [],
   "source": []
  }
 ],
 "metadata": {
  "kernelspec": {
   "display_name": "Python 3 (ipykernel)",
   "language": "python",
   "name": "python3"
  },
  "language_info": {
   "codemirror_mode": {
    "name": "ipython",
    "version": 3
   },
   "file_extension": ".py",
   "mimetype": "text/x-python",
   "name": "python",
   "nbconvert_exporter": "python",
   "pygments_lexer": "ipython3",
   "version": "3.12.4"
  }
 },
 "nbformat": 4,
 "nbformat_minor": 5
}
