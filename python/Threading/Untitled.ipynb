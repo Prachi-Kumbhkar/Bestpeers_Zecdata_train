{
 "cells": [
  {
   "cell_type": "code",
   "execution_count": 78,
   "id": "da49b546-c523-4db9-8854-4d72572ffbe0",
   "metadata": {},
   "outputs": [
    {
     "name": "stdout",
     "output_type": "stream",
     "text": [
      "[1, 2, 3, 4, 5, 6, 7, 8, 9, 10, 11, 12, 13, 14, 15, 16, 17, 18, 19, 20, 21, 22, 23, 24, 25, 26, 27, 28, 29, 30, 31, 32, 33, 34, 35, 36, 37, 38, 39, 40, 41, 42, 43, 44, 45, 46, 47, 48, 49, 50, 51, 52, 53, 54, 55, 56, 57, 58, 59, 60, 61, 62, 63, 64, 65, 66, 67, 68, 69, 70, 71, 72, 73, 74, 75, 76, 77, 78, 79, 80, 81, 82, 83, 84, 85, 86, 87, 88, 89, 90, 91, 92, 93, 94, 95, 96, 97, 98, 99, 100]\n",
      "my current time with simple loop: 0.00022554397583007812\n"
     ]
    }
   ],
   "source": [
    "import time\n",
    "\n",
    "start_time = time.time()\n",
    "\n",
    "ls = []\n",
    "for i in range(1,101):\n",
    "    ls.append(i)\n",
    "print(ls)\n",
    "\n",
    "end_time = time.time()\n",
    "\n",
    "print('my current time with simple loop:', end_time - start_time)\n"
   ]
  },
  {
   "cell_type": "code",
   "execution_count": null,
   "id": "7b930021-6d79-4d9c-b58b-9a1a8f4e683c",
   "metadata": {},
   "outputs": [],
   "source": []
  },
  {
   "cell_type": "code",
   "execution_count": null,
   "id": "6bcb0c50-fe83-4578-b9fe-36d75dbbfbe9",
   "metadata": {},
   "outputs": [],
   "source": []
  },
  {
   "cell_type": "code",
   "execution_count": 79,
   "id": "25e2d1d9-c73c-4124-a5da-f4b50e5ce399",
   "metadata": {},
   "outputs": [
    {
     "name": "stdout",
     "output_type": "stream",
     "text": [
      "[1, 2, 3, 4, 5, 6, 7, 8, 9, 10, 11, 12, 13, 14, 15, 16, 17, 18, 19, 20, 21, 22, 23, 24, 25, 26, 27, 28, 29, 30, 31, 32, 33, 34, 35, 36, 37, 38, 39, 40, 41, 42, 43, 44, 45, 46, 47, 48, 49, 50, 51, 52, 53, 54, 55, 56, 57, 58, 59, 60, 61, 62, 63, 64, 65, 66, 67, 68, 69, 70, 71, 72, 73, 74, 75, 76, 77, 78, 79, 80, 81, 82, 83, 84, 85, 86, 87, 88, 89, 90, 91, 92, 93, 94, 95, 96, 97, 98, 99, 100]\n",
      "the total time is  0.003101825714111328\n"
     ]
    }
   ],
   "source": [
    "from threading import Thread, Lock\n",
    "\n",
    "ls = []\n",
    "\n",
    "# lock = Lock()\n",
    "start_time = time.time()\n",
    "\n",
    "def adding_to_ls(x,y):\n",
    "    # with lock:\n",
    "        for i in range(x,y):\n",
    "           ls.append(i)\n",
    "        \n",
    "no_of_threads = 10\n",
    "\n",
    "threads = []\n",
    "for j in range(0,10):\n",
    "    start= j * no_of_threads +1\n",
    "    end = (j+1) *no_of_threads +1 \n",
    "    t = Thread(target=adding_to_ls, args = (start,end))\n",
    "    # threads.append(t)\n",
    "    t.start()\n",
    "    t.join()\n",
    "    \n",
    "print(ls)\n",
    "end_time = time.time()\n",
    "\n",
    "\n",
    "print('the total time is ', end_time - start_time)"
   ]
  },
  {
   "cell_type": "code",
   "execution_count": null,
   "id": "441b8703-23a4-49da-ab3e-3cac779d5718",
   "metadata": {},
   "outputs": [],
   "source": []
  },
  {
   "cell_type": "code",
   "execution_count": 75,
   "id": "9230f62e-656f-49c0-97a7-b9f4ec04ae7c",
   "metadata": {},
   "outputs": [
    {
     "name": "stdout",
     "output_type": "stream",
     "text": [
      "[1, 2, 3, 4, 5, 6, 7, 8, 9, 10, 11, 12, 13, 14, 15, 16, 17, 18, 19, 20, 21, 22, 23, 24, 25, 26, 27, 28, 29, 30, 31, 32, 33, 34, 35, 36, 37, 38, 39, 40, 41, 42, 43, 44, 45, 46, 47, 48, 49, 50, 51, 52, 53, 54, 55, 56, 57, 58, 59, 60, 61, 62, 63, 64, 65, 66, 67, 68, 69, 70, 71, 72, 73, 74, 75, 76, 77, 78, 79, 80, 81, 82, 83, 84, 85, 86, 87, 88, 89, 90, 91, 92, 93, 94, 95, 96, 97, 98, 99, 100, 101, 102, 103, 104, 105, 106, 107, 108, 109, 110, 111, 112, 113, 114, 115, 116, 117, 118, 119, 120, 121, 122, 123, 124, 125, 126, 127, 128, 129, 130, 131, 132, 133, 134, 135, 136, 137, 138, 139, 140, 141, 142, 143, 144, 145, 146, 147, 148, 149, 150, 151, 152, 153, 154, 155, 156, 157, 158, 159, 160, 161, 162, 163, 164, 165, 166, 167, 168, 169, 170, 171, 172, 173, 174, 175, 176, 177, 178, 179, 180, 181, 182, 183, 184, 185, 186, 187, 188, 189, 190, 191, 192, 193, 194, 195, 196, 197, 198, 199, 200, 201, 202, 203, 204, 205, 206, 207, 208, 209, 210, 211, 212, 213, 214, 215, 216, 217, 218, 219, 220, 221, 222, 223, 224, 225, 226, 227, 228, 229, 230, 231, 232, 233, 234, 235, 236, 237, 238, 239, 240, 241, 242, 243, 244, 245, 246, 247, 248, 249, 250, 251, 252, 253, 254, 255, 256, 257, 258, 259, 260, 261, 262, 263, 264, 265, 266, 267, 268, 269, 270, 271, 272, 273, 274, 275, 276, 277, 278, 279, 280, 281, 282, 283, 284, 285, 286, 287, 288, 289, 290, 291, 292, 293, 294, 295, 296, 297, 298, 299, 300, 301, 302, 303, 304, 305, 306, 307, 308, 309, 310, 311, 312, 313, 314, 315, 316, 317, 318, 319, 320, 321, 322, 323, 324, 325, 326, 327, 328, 329, 330, 331, 332, 333, 334, 335, 336, 337, 338, 339, 340, 341, 342, 343, 344, 345, 346, 347, 348, 349, 350, 351, 352, 353, 354, 355, 356, 357, 358, 359, 360, 361, 362, 363, 364, 365, 366, 367, 368, 369, 370, 371, 372, 373, 374, 375, 376, 377, 378, 379, 380, 381, 382, 383, 384, 385, 386, 387, 388, 389, 390, 391, 392, 393, 394, 395, 396, 397, 398, 399, 400, 401, 402, 403, 404, 405, 406, 407, 408, 409, 410, 411, 412, 413, 414, 415, 416, 417, 418, 419, 420, 421, 422, 423, 424, 425, 426, 427, 428, 429, 430, 431, 432, 433, 434, 435, 436, 437, 438, 439, 440, 441, 442, 443, 444, 445, 446, 447, 448, 449, 450, 451, 452, 453, 454, 455, 456, 457, 458, 459, 460, 461, 462, 463, 464, 465, 466, 467, 468, 469, 470, 471, 472, 473, 474, 475, 476, 477, 478, 479, 480, 481, 482, 483, 484, 485, 486, 487, 488, 489, 490, 491, 492, 493, 494, 495, 496, 497, 498, 499, 500]\n",
      "Time taken by the loop to append elements to the list: 0.00020742416381835938\n"
     ]
    }
   ],
   "source": [
    "import time\n",
    "\n",
    "start_time = time.time()\n",
    "\n",
    "ls = []\n",
    "for i in range(1,501):\n",
    "    ls.append(i)\n",
    "\n",
    "end_time = time.time()\n",
    "\n",
    "print(ls)\n",
    "print('Time taken by the loop to append elements to the list:', end_time - start_time)"
   ]
  },
  {
   "cell_type": "code",
   "execution_count": null,
   "id": "5b436716-6dda-4995-8037-bdbb02340b5a",
   "metadata": {},
   "outputs": [],
   "source": []
  },
  {
   "cell_type": "code",
   "execution_count": null,
   "id": "377d3c57-f7c8-4e76-87b4-49dcfeafdac2",
   "metadata": {},
   "outputs": [],
   "source": []
  },
  {
   "cell_type": "code",
   "execution_count": 71,
   "id": "7379074c-52b0-4f09-a38a-706f3fac1e2c",
   "metadata": {},
   "outputs": [
    {
     "name": "stdout",
     "output_type": "stream",
     "text": [
      "Start time: 2024-07-08 18:18:23\n",
      "End time: 2024-07-08 18:18:23\n",
      "Time taken by the threads to append elements to the list: 0.011498212814331055\n",
      "[1, 2, 3, 4, 5, 6, 7, 8, 9, 10, 11, 12, 13, 14, 15, 16, 17, 18, 19, 20, 21, 22, 23, 24, 25, 26, 27, 28, 29, 30, 31, 32, 33, 34, 35, 36, 37, 38, 39, 40, 41, 42, 43, 44, 45, 46, 47, 48, 49, 50, 51, 52, 53, 54, 55, 56, 57, 58, 59, 60, 61, 62, 63, 64, 65, 66, 67, 68, 69, 70, 71, 72, 73, 74, 75, 76, 77, 78, 79, 80, 81, 82, 83, 84, 85, 86, 87, 88, 89, 90, 91, 92, 93, 94, 95, 96, 97, 98, 99, 100]\n"
     ]
    }
   ],
   "source": [
    "import time\n",
    "import threading\n",
    "\n",
    "def append_to_list(start, end, ls):\n",
    "    for i in range(start, end):\n",
    "        ls.append(i)\n",
    "\n",
    "ls = []\n",
    "threads = []\n",
    "\n",
    "start_time = time.time()\n",
    "print('Start time:', time.strftime(\"%Y-%m-%d %H:%M:%S\", time.localtime()))\n",
    "\n",
    "for i in range(50):\n",
    "    start = i * 2 + 1\n",
    "    end = (i + 1) * 2 + 1\n",
    "    thread = threading.Thread(target=append_to_list, args=(start, end, ls))\n",
    "    threads.append(thread)\n",
    "    thread.start()\n",
    "\n",
    "for thread in threads:\n",
    "    thread.join()\n",
    "\n",
    "end_time = time.time()\n",
    "print('End time:', time.strftime(\"%Y-%m-%d %H:%M:%S\", time.localtime()))\n",
    "print('Time taken by the threads to append elements to the list:', end_time - start_time)\n",
    "print(ls)"
   ]
  },
  {
   "cell_type": "code",
   "execution_count": null,
   "id": "d8043cce-b7b4-4fc6-9af8-6f72e88a9af2",
   "metadata": {},
   "outputs": [],
   "source": []
  },
  {
   "cell_type": "code",
   "execution_count": null,
   "id": "85050b4c-0773-40ba-87fd-ecedb60bd339",
   "metadata": {},
   "outputs": [],
   "source": []
  },
  {
   "cell_type": "code",
   "execution_count": 73,
   "id": "8c8932c1-82ac-4c0e-8928-3e9a6378a1fc",
   "metadata": {},
   "outputs": [
    {
     "name": "stdout",
     "output_type": "stream",
     "text": [
      "2024-07-08 18:23:38.209570: Starting script\n",
      "2024-07-08 18:23:38.209833: [0, 1, 2, 3, 4, 5, 6, 7, 8, 9, 10, 11, 12, 13, 14, 15, 16, 17, 18, 19, 20, 21, 22, 23, 24, 25, 26, 27, 28, 29, 30, 31, 32, 33, 34, 35, 36, 37, 38, 39, 40, 41, 42, 43, 44, 45, 46, 47, 48, 49, 50, 51, 52, 53, 54, 55, 56, 57, 58, 59, 60, 61, 62, 63, 64, 65, 66, 67, 68, 69, 70, 71, 72, 73, 74, 75, 76, 77, 78, 79, 80, 81, 82, 83, 84, 85, 86, 87, 88, 89, 90, 91, 92, 93, 94, 95, 96, 97, 98, 99, 100, 101, 102, 103, 104, 105, 106, 107, 108, 109, 110, 111, 112, 113, 114, 115, 116, 117, 118, 119, 120, 121, 122, 123, 124, 125, 126, 127, 128, 129, 130, 131, 132, 133, 134, 135, 136, 137, 138, 139, 140, 141, 142, 143, 144, 145, 146, 147, 148, 149, 150, 151, 152, 153, 154, 155, 156, 157, 158, 159, 160, 161, 162, 163, 164, 165, 166, 167, 168, 169, 170, 171, 172, 173, 174, 175, 176, 177, 178, 179, 180, 181, 182, 183, 184, 185, 186, 187, 188, 189, 190, 191, 192, 193, 194, 195, 196, 197, 198, 199, 200, 201, 202, 203, 204, 205, 206, 207, 208, 209, 210, 211, 212, 213, 214, 215, 216, 217, 218, 219, 220, 221, 222, 223, 224, 225, 226, 227, 228, 229, 230, 231, 232, 233, 234, 235, 236, 237, 238, 239, 240, 241, 242, 243, 244, 245, 246, 247, 248, 249, 250, 251, 252, 253, 254, 255, 256, 257, 258, 259, 260, 261, 262, 263, 264, 265, 266, 267, 268, 269, 270, 271, 272, 273, 274, 275, 276, 277, 278, 279, 280, 281, 282, 283, 284, 285, 286, 287, 288, 289, 290, 291, 292, 293, 294, 295, 296, 297, 298, 299, 300, 301, 302, 303, 304, 305, 306, 307, 308, 309, 310, 311, 312, 313, 314, 315, 316, 317, 318, 319, 320, 321, 322, 323, 324, 325, 326, 327, 328, 329, 330, 331, 332, 333, 334, 335, 336, 337, 338, 339, 340, 341, 342, 343, 344, 345, 346, 347, 348, 349, 350, 351, 352, 353, 354, 355, 356, 357, 358, 359, 360, 361, 362, 363, 364, 365, 366, 367, 368, 369, 370, 371, 372, 373, 374, 375, 376, 377, 378, 379, 380, 381, 382, 383, 384, 385, 386, 387, 388, 389, 390, 391, 392, 393, 394, 395, 396, 397, 398, 399, 400, 401, 402, 403, 404, 405, 406, 407, 408, 409, 410, 411, 412, 413, 414, 415, 416, 417, 418, 419, 420, 421, 422, 423, 424, 425, 426, 427, 428, 429, 430, 431, 432, 433, 434, 435, 436, 437, 438, 439, 440, 441, 442, 443, 444, 445, 446, 447, 448, 449, 450, 451, 452, 453, 454, 455, 456, 457, 458, 459, 460, 461, 462, 463, 464, 465, 466, 467, 468, 469, 470, 471, 472, 473, 474, 475, 476, 477, 478, 479, 480, 481, 482, 483, 484, 485, 486, 487, 488, 489, 490, 491, 492, 493, 494, 495, 496, 497, 498, 499]\n",
      "2024-07-08 18:23:38.210001: Script finished\n",
      "Time taken: 0.000431 seconds\n"
     ]
    }
   ],
   "source": [
    "import threading\n",
    "import time\n",
    "import datetime\n",
    "\n",
    "# Create a list to store the numbers\n",
    "numbers = []\n",
    "\n",
    "# Create a lock for thread safety\n",
    "lock = threading.Lock()\n",
    "\n",
    "# Define a function to append numbers to the list\n",
    "def append_numbers(start, end):\n",
    "    for i in range(start, end):\n",
    "        with lock:\n",
    "            numbers.append(i)\n",
    "\n",
    "# Create 10 threads to append numbers to the list\n",
    "threads = []\n",
    "for i in range(10):\n",
    "    start = i * 50\n",
    "    end = (i + 1) * 50\n",
    "    t = threading.Thread(target=append_numbers, args=(start, end))\n",
    "    threads.append(t)\n",
    "    t.start()\n",
    "\n",
    "# Wait for all threads to finish\n",
    "for t in threads:\n",
    "    t.join()\n",
    "\n",
    "# Print the list with a timestamp\n",
    "start_time = datetime.datetime.now()\n",
    "print(f\"{start_time}: Starting script\")\n",
    "print(f\"{datetime.datetime.now()}: {numbers}\")\n",
    "end_time = datetime.datetime.now()\n",
    "print(f\"{end_time}: Script finished\")\n",
    "\n",
    "# Calculate and print the time taken\n",
    "time_taken = end_time - start_time\n",
    "print(f\"Time taken: {time_taken.total_seconds()} seconds\")"
   ]
  },
  {
   "cell_type": "code",
   "execution_count": null,
   "id": "a623c096-cbd1-424e-8ccb-415502799737",
   "metadata": {},
   "outputs": [],
   "source": []
  },
  {
   "cell_type": "code",
   "execution_count": 74,
   "id": "3442352e-fef1-4166-a716-460b39546fe5",
   "metadata": {},
   "outputs": [
    {
     "name": "stdout",
     "output_type": "stream",
     "text": [
      "2024-07-08 18:24:56.269604: Starting script\n",
      "2024-07-08 18:24:56.269957: [0, 1, 2, 3, 4, 5, 6, 7, 8, 9, 10, 11, 12, 13, 14, 15, 16, 17, 18, 19, 20, 21, 22, 23, 24, 25, 26, 27, 28, 29, 30, 31, 32, 33, 34, 35, 36, 37, 38, 39, 40, 41, 42, 43, 44, 45, 46, 47, 48, 49, 50, 51, 52, 53, 54, 55, 56, 57, 58, 59, 60, 61, 62, 63, 64, 65, 66, 67, 68, 69, 70, 71, 72, 73, 74, 75, 76, 77, 78, 79, 80, 81, 82, 83, 84, 85, 86, 87, 88, 89, 90, 91, 92, 93, 94, 95, 96, 97, 98, 99, 100, 101, 102, 103, 104, 105, 106, 107, 108, 109, 110, 111, 112, 113, 114, 115, 116, 117, 118, 119, 120, 121, 122, 123, 124, 125, 126, 127, 128, 129, 130, 131, 132, 133, 134, 135, 136, 137, 138, 139, 140, 141, 142, 143, 144, 145, 146, 147, 148, 149, 150, 151, 152, 153, 154, 155, 156, 157, 158, 159, 160, 161, 162, 163, 164, 165, 166, 167, 168, 169, 170, 171, 172, 173, 174, 175, 176, 177, 178, 179, 180, 181, 182, 183, 184, 185, 186, 187, 188, 189, 190, 191, 192, 193, 194, 195, 196, 197, 198, 199, 200, 201, 202, 203, 204, 205, 206, 207, 208, 209, 210, 211, 212, 213, 214, 215, 216, 217, 218, 219, 220, 221, 222, 223, 224, 225, 226, 227, 228, 229, 230, 231, 232, 233, 234, 235, 236, 237, 238, 239, 240, 241, 242, 243, 244, 245, 246, 247, 248, 249, 250, 251, 252, 253, 254, 255, 256, 257, 258, 259, 260, 261, 262, 263, 264, 265, 266, 267, 268, 269, 270, 271, 272, 273, 274, 275, 276, 277, 278, 279, 280, 281, 282, 283, 284, 285, 286, 287, 288, 289, 290, 291, 292, 293, 294, 295, 296, 297, 298, 299, 300, 301, 302, 303, 304, 305, 306, 307, 308, 309, 310, 311, 312, 313, 314, 315, 316, 317, 318, 319, 320, 321, 322, 323, 324, 325, 326, 327, 328, 329, 330, 331, 332, 333, 334, 335, 336, 337, 338, 339, 340, 341, 342, 343, 344, 345, 346, 347, 348, 349, 350, 351, 352, 353, 354, 355, 356, 357, 358, 359, 360, 361, 362, 363, 364, 365, 366, 367, 368, 369, 370, 371, 372, 373, 374, 375, 376, 377, 378, 379, 380, 381, 382, 383, 384, 385, 386, 387, 388, 389, 390, 391, 392, 393, 394, 395, 396, 397, 398, 399, 400, 401, 402, 403, 404, 405, 406, 407, 408, 409, 410, 411, 412, 413, 414, 415, 416, 417, 418, 419, 420, 421, 422, 423, 424, 425, 426, 427, 428, 429, 430, 431, 432, 433, 434, 435, 436, 437, 438, 439, 440, 441, 442, 443, 444, 445, 446, 447, 448, 449, 450, 451, 452, 453, 454, 455, 456, 457, 458, 459, 460, 461, 462, 463, 464, 465, 466, 467, 468, 469, 470, 471, 472, 473, 474, 475, 476, 477, 478, 479, 480, 481, 482, 483, 484, 485, 486, 487, 488, 489, 490, 491, 492, 493, 494, 495, 496, 497, 498, 499]\n",
      "2024-07-08 18:24:56.270068: Script finished\n",
      "Time taken: 0.000464 seconds\n"
     ]
    }
   ],
   "source": [
    "import time\n",
    "import datetime\n",
    "\n",
    "# Create a list to store the numbers\n",
    "numbers = []\n",
    "\n",
    "# Define a function to append numbers to the list\n",
    "def append_numbers(start, end):\n",
    "    for i in range(start, end):\n",
    "        numbers.append(i)\n",
    "\n",
    "# Append 500 numbers to the list\n",
    "start_time = datetime.datetime.now()\n",
    "print(f\"{start_time}: Starting script\")\n",
    "for i in range(10):\n",
    "    start = i * 50\n",
    "    end = (i + 1) * 50\n",
    "    append_numbers(start, end)\n",
    "print(f\"{datetime.datetime.now()}: {numbers}\")\n",
    "\n",
    "# Calculate and print the time taken\n",
    "end_time = datetime.datetime.now()\n",
    "print(f\"{end_time}: Script finished\")\n",
    "time_taken = end_time - start_time\n",
    "print(f\"Time taken: {time_taken.total_seconds()} seconds\")"
   ]
  },
  {
   "cell_type": "code",
   "execution_count": null,
   "id": "7dae6db1-0239-4d91-bb26-4f9874af92f0",
   "metadata": {},
   "outputs": [],
   "source": []
  },
  {
   "cell_type": "code",
   "execution_count": null,
   "id": "5b71e085-7799-4260-b53e-bfd431ab2dd2",
   "metadata": {},
   "outputs": [],
   "source": []
  },
  {
   "cell_type": "code",
   "execution_count": null,
   "id": "89a17ef6-fd07-4727-a17f-5353bda15641",
   "metadata": {},
   "outputs": [],
   "source": []
  },
  {
   "cell_type": "code",
   "execution_count": null,
   "id": "c3e25d3f-fd40-4169-aac9-4a32b9d35a6f",
   "metadata": {},
   "outputs": [],
   "source": []
  },
  {
   "cell_type": "code",
   "execution_count": null,
   "id": "d8a4a3f5-afbc-4dd3-9e17-168561997cc4",
   "metadata": {},
   "outputs": [],
   "source": []
  },
  {
   "cell_type": "code",
   "execution_count": null,
   "id": "7486f3c1-af71-4eaf-869e-a160e5ca2e2d",
   "metadata": {},
   "outputs": [],
   "source": []
  },
  {
   "cell_type": "code",
   "execution_count": null,
   "id": "b5b0b3ca-fb99-4095-8753-047f055510c9",
   "metadata": {},
   "outputs": [],
   "source": []
  },
  {
   "cell_type": "code",
   "execution_count": null,
   "id": "8a4c7391-4008-49b8-bb08-898d7ba71289",
   "metadata": {},
   "outputs": [],
   "source": []
  },
  {
   "cell_type": "code",
   "execution_count": null,
   "id": "b5928a28-dab9-4025-b491-448984b960bd",
   "metadata": {},
   "outputs": [],
   "source": []
  },
  {
   "cell_type": "code",
   "execution_count": 81,
   "id": "457b77a5-3229-4f0c-b9cb-46f207dd3247",
   "metadata": {},
   "outputs": [
    {
     "name": "stdout",
     "output_type": "stream",
     "text": [
      "Time taken: 0.00014925003051757812 seconds\n"
     ]
    }
   ],
   "source": [
    "import time\n",
    "\n",
    "# Create an empty list\n",
    "my_list = []\n",
    "\n",
    "# Get the start time\n",
    "start_time = time.time()\n",
    "\n",
    "# Loop from 1 to 500 and append to the list\n",
    "for i in range(1, 501):\n",
    "\n",
    "    my_list.append(i)\n",
    "    # print(my_list.append(i))\n",
    "\n",
    "# Get the end time\n",
    "end_time = time.time()\n",
    "\n",
    "# Calculate the time taken\n",
    "time_taken = end_time - start_time\n",
    "\n",
    "# Print the results\n",
    "print(\"Time taken:\", time_taken, \"seconds\")\n"
   ]
  },
  {
   "cell_type": "code",
   "execution_count": null,
   "id": "59ed575c-5a4d-4abe-8c1a-bbe6f6ec32be",
   "metadata": {},
   "outputs": [],
   "source": []
  },
  {
   "cell_type": "code",
   "execution_count": null,
   "id": "4f16c47c-8b78-42fb-9513-8470f6eb44e5",
   "metadata": {},
   "outputs": [],
   "source": []
  },
  {
   "cell_type": "code",
   "execution_count": null,
   "id": "65741119-79f8-44e8-b50a-dfa8fef3b8b3",
   "metadata": {},
   "outputs": [],
   "source": []
  },
  {
   "cell_type": "code",
   "execution_count": 83,
   "id": "6a8b4f1f-85d6-4b92-8958-c06a775a2190",
   "metadata": {},
   "outputs": [
    {
     "name": "stdout",
     "output_type": "stream",
     "text": [
      "current_thread\n",
      "the actual time taken for proccesing is  4.094321250915527\n"
     ]
    }
   ],
   "source": [
    "import threading\n",
    "import time\n",
    "\n",
    "li = []\n",
    "thread_list = []\n",
    "\n",
    "def adding_element(start,End):\n",
    "    for i in range(start,End):\n",
    "        li.append(i)\n",
    "\n",
    "\n",
    "def Associate_the_task_to_threads(number_of_thread,total_data):\n",
    "    for i in range(number_of_thread):\n",
    "        start = i * total_data // number_of_thread\n",
    "        end = start + total_data//number_of_thread\n",
    "        thread = threading.Thread(target=adding_element,args=(start,end))\n",
    "        thread_list.append(thread)\n",
    "\n",
    "Associate_the_task_to_threads(50,100000000)\n",
    "start_time = time.time()\n",
    "for i in thread_list :\n",
    "    i.start()\n",
    "\n",
    "print(threading.current_thread.__name__)\n",
    "\n",
    "for thread in thread_list:\n",
    "    thread.join()\n",
    "\n",
    "End_time = time.time()\n",
    "\n",
    "print(\"the actual time taken for proccesing is \",End_time - start_time)\n"
   ]
  },
  {
   "cell_type": "code",
   "execution_count": null,
   "id": "be0dc9bc-0dbd-472e-993d-1dccd5f6ad59",
   "metadata": {},
   "outputs": [],
   "source": []
  },
  {
   "cell_type": "code",
   "execution_count": null,
   "id": "a9303515-0ec6-4d0d-86cd-630d58ed1038",
   "metadata": {},
   "outputs": [],
   "source": [
    "\n",
    "def loop_function(n):\n",
    "    res = []\n",
    "    for i in range(n):\n",
    "        res.append(i)\n",
    "    return res\n",
    "\n",
    "\n",
    "\n",
    "def thread_function(n):\n",
    "    res = []\n",
    "    number_of_threads = 1000\n",
    "    idx = n // number_of_threads\n",
    "    def adder(res, idx):\n",
    "        for i in range(idx):\n",
    "            res.append(idx*10+i)\n",
    "        return res\n",
    "    for i in range(idx):\n",
    "        thread = threading.Thread(target=adder,args=(res,i))\n",
    "        thread.run()\n",
    "    return res\n",
    "\n",
    "start = time.time()\n",
    "loop_function(10000000000)\n",
    "end = time.time()\n",
    "print(f'process finesd in loop : {end-start}')\n",
    "\n",
    "start = time.time()\n",
    "thread_function(10000000000)\n",
    "end = time.time()\n",
    "print(f'process finesd in thread : {end-start}')\n"
   ]
  },
  {
   "cell_type": "code",
   "execution_count": null,
   "id": "9963c84e-b392-41e0-b200-2dfdfcb903d1",
   "metadata": {},
   "outputs": [],
   "source": [
    "\n",
    "\n",
    "# def run_threads(n, num = 10):\n",
    "#     res = []\n",
    "#     for i in range(num):\n",
    "#         start = i * n // num\n",
    "#         end = start + n //num\n",
    "#         thread = threading.Thread(target=thread_function,args=(start,end))\n",
    "#         results = thread.run()\n",
    "        \n",
    "        \n",
    "    "
   ]
  },
  {
   "cell_type": "code",
   "execution_count": null,
   "id": "6df618f6-68dd-4de9-9285-5188bbcba406",
   "metadata": {},
   "outputs": [],
   "source": []
  },
  {
   "cell_type": "code",
   "execution_count": 89,
   "id": "3f8a8308-7c91-42a1-9ecb-7b5177e5fcd0",
   "metadata": {},
   "outputs": [
    {
     "name": "stdout",
     "output_type": "stream",
     "text": [
      "Sequential execution:\n",
      "Sequential execution time: 0.059151 seconds\n",
      "\n",
      "Multithreaded execution:\n",
      "Multithreaded execution time: 0.001261 seconds\n"
     ]
    }
   ],
   "source": [
    "import threading\n",
    "import time\n",
    "\n",
    "res = []\n",
    "res1 = []\n",
    "\n",
    "def print_numbers_sequentially():\n",
    "    start_time = time.time()\n",
    "    for i in range(1, 1000001):\n",
    "        res.append(i)\n",
    "    end_time = time.time()\n",
    "    print(f\"Sequential execution time: {end_time - start_time:.6f} seconds\")\n",
    "\n",
    "def print_numbers_multithreaded():\n",
    "    def print_numbers_thread(start, end):\n",
    "        for i in range(start, end):\n",
    "            res1.append(i)\n",
    "\n",
    "    threads = []\n",
    "    start_time = time.time()\n",
    "    for i in range(10):\n",
    "        start = i * 1000 + 1\n",
    "        end = (i + 1) * 1000\n",
    "        t = threading.Thread(target=print_numbers_thread, args=(start, end))\n",
    "        threads.append(t)\n",
    "        t.start()\n",
    "\n",
    "    for t in threads:\n",
    "        t.join()\n",
    "\n",
    "    end_time = time.time()\n",
    "    print(f\"Multithreaded execution time: {end_time - start_time:.6f} seconds\")\n",
    "\n",
    "print(\"Sequential execution:\")\n",
    "print_numbers_sequentially()\n",
    "\n",
    "print(\"\\nMultithreaded execution:\")\n",
    "print_numbers_multithreaded()"
   ]
  },
  {
   "cell_type": "code",
   "execution_count": null,
   "id": "096ebec2-9ba8-4689-8a1c-f5b47eb5629d",
   "metadata": {},
   "outputs": [],
   "source": []
  },
  {
   "cell_type": "code",
   "execution_count": 94,
   "id": "e59bdffe-2f5c-4e36-b64e-e137feab713a",
   "metadata": {},
   "outputs": [
    {
     "name": "stdout",
     "output_type": "stream",
     "text": [
      "Time taken: 0.0010585784912109375 seconds\n"
     ]
    }
   ],
   "source": [
    "import time\n",
    "\n",
    "# Create an empty list\n",
    "my_list = []\n",
    "\n",
    "# Get the start time\n",
    "start_time = time.time()\n",
    "\n",
    "# Loop from 1 to 500 and append to the list\n",
    "for i in range(1, 10000):\n",
    "\n",
    "    my_list.append(i)\n",
    "    # print(my_list.append(i))\n",
    "\n",
    "# Get the end time\n",
    "end_time = time.time()\n",
    "\n",
    "# Calculate the time taken\n",
    "time_taken = end_time - start_time\n",
    "\n",
    "# Print the results\n",
    "print(\"Time taken:\", time_taken, \"seconds\")"
   ]
  },
  {
   "cell_type": "code",
   "execution_count": null,
   "id": "f3094fe6-b135-4b21-b10e-020b0da4d063",
   "metadata": {},
   "outputs": [],
   "source": []
  },
  {
   "cell_type": "code",
   "execution_count": null,
   "id": "08074b92-ce78-429b-adc7-b3b6d21fc35b",
   "metadata": {},
   "outputs": [],
   "source": []
  },
  {
   "cell_type": "code",
   "execution_count": null,
   "id": "ca1fd96c-b3ce-4efc-a5b3-5feead4865f4",
   "metadata": {},
   "outputs": [],
   "source": []
  },
  {
   "cell_type": "code",
   "execution_count": null,
   "id": "c5bde853-0e42-4ea6-bb43-2d5076fd1194",
   "metadata": {},
   "outputs": [],
   "source": []
  },
  {
   "cell_type": "code",
   "execution_count": null,
   "id": "948a9297-56a1-4d0b-8436-bbe84b31237f",
   "metadata": {},
   "outputs": [],
   "source": []
  },
  {
   "cell_type": "code",
   "execution_count": null,
   "id": "91aa9375-e7d5-451a-8b13-5e1720514d97",
   "metadata": {},
   "outputs": [],
   "source": []
  }
 ],
 "metadata": {
  "kernelspec": {
   "display_name": "Python 3 (ipykernel)",
   "language": "python",
   "name": "python3"
  },
  "language_info": {
   "codemirror_mode": {
    "name": "ipython",
    "version": 3
   },
   "file_extension": ".py",
   "mimetype": "text/x-python",
   "name": "python",
   "nbconvert_exporter": "python",
   "pygments_lexer": "ipython3",
   "version": "3.12.4"
  }
 },
 "nbformat": 4,
 "nbformat_minor": 5
}
