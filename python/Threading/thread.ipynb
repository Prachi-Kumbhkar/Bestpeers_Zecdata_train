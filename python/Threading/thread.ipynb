{
 "cells": [
  {
   "cell_type": "markdown",
   "id": "543b2ae6-4348-4575-8b92-b4354a6ee689",
   "metadata": {},
   "source": [
    "Threading in Python refers to a way of achieving multitasking or concurrency within a single process. \n",
    "\n",
    "It allows different parts of your program to execute concurrently,\n",
    "\n",
    "making good use of resources and improving performance for tasks that can run independently."
   ]
  },
  {
   "cell_type": "markdown",
   "id": "5d959291-f290-44c3-88ac-9470dd8741de",
   "metadata": {},
   "source": [
    "# create thread without using class"
   ]
  },
  {
   "cell_type": "code",
   "execution_count": 54,
   "id": "3a8040b7-4add-4bfa-a4ac-ce9614ce4460",
   "metadata": {},
   "outputs": [
    {
     "name": "stdout",
     "output_type": "stream",
     "text": [
      "Thread Running\n"
     ]
    }
   ],
   "source": [
    "from threading import Thread \n",
    "\n",
    "def disp():\n",
    "    print('Thread Running')\n",
    "\n",
    "t = Thread(target = disp)\n",
    "t.start()"
   ]
  },
  {
   "cell_type": "markdown",
   "id": "51eca6bc-77a7-4c90-9343-5f3760db8534",
   "metadata": {},
   "source": [
    "#### with arguments"
   ]
  },
  {
   "cell_type": "code",
   "execution_count": 67,
   "id": "96632b91-dd11-49ba-9bb1-cc391f20550a",
   "metadata": {},
   "outputs": [
    {
     "name": "stdout",
     "output_type": "stream",
     "text": [
      "Thread Running 10\n"
     ]
    }
   ],
   "source": [
    "from threading import Thread \n",
    "\n",
    "def disp(a):\n",
    "    print('Thread Running', a)\n",
    "\n",
    "thr = Thread(target = disp, args = (10,))\n",
    "thr.start()"
   ]
  },
  {
   "cell_type": "code",
   "execution_count": null,
   "id": "c865951e-76f8-4a1a-8b4e-eb87be633f66",
   "metadata": {},
   "outputs": [],
   "source": []
  },
  {
   "cell_type": "code",
   "execution_count": 68,
   "id": "56d0461f-3b51-44df-a138-fafe6a603b62",
   "metadata": {},
   "outputs": [
    {
     "name": "stdout",
     "output_type": "stream",
     "text": [
      "Thread Running 10\n"
     ]
    }
   ],
   "source": [
    "from threading import Thread \n",
    "\n",
    "def disp(a):\n",
    "    print('Thread Running', a)\n",
    "\n",
    "t_1 = Thread(target = disp, args = (10,))\n",
    "t_1.start()  ## as soon as start comes in act the threads are divided into main thread and child thread"
   ]
  },
  {
   "cell_type": "code",
   "execution_count": null,
   "id": "7ebf9c62-a058-4141-bfce-e2912cb4fac4",
   "metadata": {},
   "outputs": [],
   "source": []
  },
  {
   "cell_type": "code",
   "execution_count": 69,
   "id": "4fb80fac-f054-440d-b01d-c23e8c0392f1",
   "metadata": {},
   "outputs": [
    {
     "name": "stdout",
     "output_type": "stream",
     "text": [
      "Thread Running 10\n",
      "Main thread\n",
      "Main thread\n",
      "Main thread\n",
      "Main thread\n",
      "Main thread\n"
     ]
    }
   ],
   "source": [
    "from threading import Thread \n",
    "\n",
    "def disp(a):\n",
    "    print('Thread Running', a)\n",
    "\n",
    "t_2 = Thread(target = disp, args = (10,))\n",
    "t_2.start()  ## as soon as start comes in act the threads are divided into main thread and child thread\n",
    "\n",
    "for i in range(5):\n",
    "    print('Main thread')"
   ]
  },
  {
   "cell_type": "markdown",
   "id": "0c3fa085-3360-4e7b-917f-f5d6ff8c2817",
   "metadata": {},
   "source": [
    "#### current thread -- return current thread object \n",
    "\n",
    "\n"
   ]
  },
  {
   "cell_type": "code",
   "execution_count": 70,
   "id": "0bca89d0-9a05-4b59-a808-61eac2eef287",
   "metadata": {},
   "outputs": [
    {
     "name": "stdout",
     "output_type": "stream",
     "text": [
      "return child thread object <Thread(Thread-65 (disp), started 140295970744064)>\n",
      "return Main Thread <_MainThread(Geeky Thread, started 140296604279168)>\n"
     ]
    }
   ],
   "source": [
    "from threading import Thread, current_thread\n",
    "\n",
    "def disp():\n",
    "    print('return child thread object', current_thread())\n",
    "\n",
    "t_3 = Thread(target = disp)\n",
    "t_3.start()\n",
    "\n",
    "print('return Main Thread', current_thread())\n"
   ]
  },
  {
   "cell_type": "markdown",
   "id": "47a1032d-70c3-4958-9491-1396c1c2fd16",
   "metadata": {},
   "source": [
    "### get name -- every thread has name by default  to get name of thread, we can use this method"
   ]
  },
  {
   "cell_type": "code",
   "execution_count": 71,
   "id": "52327321-397b-4404-9bf8-571c48547162",
   "metadata": {},
   "outputs": [
    {
     "name": "stdout",
     "output_type": "stream",
     "text": [
      "return child thread object name Thread-66 (disp)\n",
      "return Main Thread Geeky Thread\n"
     ]
    },
    {
     "name": "stderr",
     "output_type": "stream",
     "text": [
      "/tmp/ipykernel_11929/956079891.py:4: DeprecationWarning: getName() is deprecated, get the name attribute instead\n",
      "  print('return child thread object name', current_thread().getName())\n",
      "/tmp/ipykernel_11929/956079891.py:9: DeprecationWarning: getName() is deprecated, get the name attribute instead\n",
      "  print('return Main Thread', current_thread().getName())\n"
     ]
    }
   ],
   "source": [
    "from threading import Thread, current_thread\n",
    "\n",
    "def disp():\n",
    "    print('return child thread object name', current_thread().getName())\n",
    "\n",
    "t_4 = Thread(target = disp)\n",
    "t_4.start()\n",
    "\n",
    "print('return Main Thread', current_thread().getName())\n"
   ]
  },
  {
   "cell_type": "code",
   "execution_count": null,
   "id": "ed19a78d-7196-4bef-8282-0ec47884f376",
   "metadata": {},
   "outputs": [],
   "source": []
  },
  {
   "cell_type": "markdown",
   "id": "0714f475-a385-4bfc-a557-4cc5043c1bd7",
   "metadata": {},
   "source": [
    "### setName(name) -- to set the name of thread"
   ]
  },
  {
   "cell_type": "code",
   "execution_count": 72,
   "id": "e55475b9-43f6-4882-8d00-76e612706f43",
   "metadata": {},
   "outputs": [
    {
     "name": "stdout",
     "output_type": "stream",
     "text": [
      "default child thread object name Thread-67 (disp)\n",
      "new child thraed object name Doc Thread\n",
      "return Main Thread Geeky Thread\n"
     ]
    },
    {
     "name": "stderr",
     "output_type": "stream",
     "text": [
      "/tmp/ipykernel_11929/971440591.py:4: DeprecationWarning: getName() is deprecated, get the name attribute instead\n",
      "  print('default child thread object name', current_thread().getName())\n",
      "/tmp/ipykernel_11929/971440591.py:5: DeprecationWarning: setName() is deprecated, set the name attribute instead\n",
      "  current_thread().setName('Doc Thread')\n",
      "/tmp/ipykernel_11929/971440591.py:6: DeprecationWarning: getName() is deprecated, get the name attribute instead\n",
      "  print('new child thraed object name', current_thread().getName())\n",
      "/tmp/ipykernel_11929/971440591.py:11: DeprecationWarning: getName() is deprecated, get the name attribute instead\n",
      "  print('return Main Thread', current_thread().getName())\n"
     ]
    }
   ],
   "source": [
    "from threading import Thread, current_thread\n",
    "\n",
    "def disp():\n",
    "    print('default child thread object name', current_thread().getName())\n",
    "    current_thread().setName('Doc Thread')\n",
    "    print('new child thraed object name', current_thread().getName())\n",
    "\n",
    "t_6 = Thread(target = disp)\n",
    "t_6.start()\n",
    "\n",
    "print('return Main Thread', current_thread().getName())\n"
   ]
  },
  {
   "cell_type": "code",
   "execution_count": null,
   "id": "06a9bd4b-c082-4185-9182-6b2b298671c0",
   "metadata": {},
   "outputs": [],
   "source": []
  },
  {
   "cell_type": "code",
   "execution_count": 73,
   "id": "98e39651-777d-4e02-9812-0073f5ac0b02",
   "metadata": {},
   "outputs": [
    {
     "name": "stdout",
     "output_type": "stream",
     "text": [
      "default child thread object name :  Thread-68 (disp)\n",
      "new child thraed object name : Doc Thread\n",
      "return Main Thread :  Geeky Thread\n",
      "new main thraed object name :  Geeky Thread\n"
     ]
    },
    {
     "name": "stderr",
     "output_type": "stream",
     "text": [
      "/tmp/ipykernel_11929/3145053002.py:4: DeprecationWarning: getName() is deprecated, get the name attribute instead\n",
      "  print('default child thread object name : ', current_thread().getName())\n",
      "/tmp/ipykernel_11929/3145053002.py:5: DeprecationWarning: setName() is deprecated, set the name attribute instead\n",
      "  current_thread().setName('Doc Thread')\n",
      "/tmp/ipykernel_11929/3145053002.py:6: DeprecationWarning: getName() is deprecated, get the name attribute instead\n",
      "  print('new child thraed object name :', current_thread().getName())\n",
      "/tmp/ipykernel_11929/3145053002.py:12: DeprecationWarning: getName() is deprecated, get the name attribute instead\n",
      "  print('return Main Thread : ', current_thread().getName())\n",
      "/tmp/ipykernel_11929/3145053002.py:13: DeprecationWarning: setName() is deprecated, set the name attribute instead\n",
      "  current_thread().setName('Geeky Thread')\n",
      "/tmp/ipykernel_11929/3145053002.py:14: DeprecationWarning: getName() is deprecated, get the name attribute instead\n",
      "  print('new main thraed object name : ', current_thread().getName())\n"
     ]
    }
   ],
   "source": [
    "from threading import Thread, current_thread\n",
    "\n",
    "def disp():\n",
    "    print('default child thread object name : ', current_thread().getName())\n",
    "    current_thread().setName('Doc Thread')\n",
    "    print('new child thraed object name :', current_thread().getName())\n",
    "\n",
    "t_7 = Thread(target = disp)\n",
    "t_7.start()\n",
    "\n",
    "\n",
    "print('return Main Thread : ', current_thread().getName())\n",
    "current_thread().setName('Geeky Thread')\n",
    "print('new main thraed object name : ', current_thread().getName())\n"
   ]
  },
  {
   "cell_type": "code",
   "execution_count": null,
   "id": "7a62977e-0ca8-47f0-aded-de94f5ed3f37",
   "metadata": {},
   "outputs": [],
   "source": []
  },
  {
   "cell_type": "markdown",
   "id": "3700ed1a-3b77-4fbf-8672-a1458f0bd7a8",
   "metadata": {},
   "source": [
    "# creating thread by creating child class of Thread class"
   ]
  },
  {
   "cell_type": "markdown",
   "id": "42d79cab-298d-4581-bfef-b09590bc560f",
   "metadata": {},
   "source": [
    "start() -- it starts the thread(when it is called then only thread will get start)\n",
    "\n",
    "run() -- every thread runs as soon as start is called(run method also present in thread (parent) class, and it gets override in child class so it will automatically called as soon as start called.\n",
    "\n",
    "join() -- execution of subsequent threads takes place when one threads get completed with execution"
   ]
  },
  {
   "cell_type": "code",
   "execution_count": 75,
   "id": "ca462705-2257-4df9-93e3-27389bbe9121",
   "metadata": {},
   "outputs": [
    {
     "name": "stdout",
     "output_type": "stream",
     "text": [
      "I am child class thread\n"
     ]
    }
   ],
   "source": [
    "from threading import Thread\n",
    "\n",
    "class MyThread(Thread):\n",
    " \n",
    "    def run(self):\n",
    "        print('I am child class thread')\n",
    "\n",
    "t_8 = MyThread()\n",
    "t_8.start()\n",
    "# t_8.func()\n",
    "\n",
    "\n",
    "    "
   ]
  },
  {
   "cell_type": "code",
   "execution_count": null,
   "id": "7e5d7d0c-9c85-4fd8-ab5c-d531c32f738e",
   "metadata": {},
   "outputs": [],
   "source": []
  },
  {
   "cell_type": "code",
   "execution_count": 76,
   "id": "5c138224-d9c7-4134-83e8-35036ce3f629",
   "metadata": {},
   "outputs": [
    {
     "name": "stdout",
     "output_type": "stream",
     "text": [
      "I am run method overriding Thread class run method and i get automatically invoked as soon as you call start\n",
      "i am a function of child class thraed\n",
      "I am main thread, and  my name is  Geeky Thread\n"
     ]
    },
    {
     "name": "stderr",
     "output_type": "stream",
     "text": [
      "/tmp/ipykernel_11929/1693383533.py:15: DeprecationWarning: getName() is deprecated, get the name attribute instead\n",
      "  print('I am main thread, and  my name is ',current_thread().getName())\n"
     ]
    }
   ],
   "source": [
    "from threading import Thread, current_thread\n",
    "\n",
    "class MyThread(Thread):\n",
    " \n",
    "    def run(self):\n",
    "        print('I am run method overriding Thread class run method and i get automatically invoked as soon as you call start')\n",
    "\n",
    "    def func(self):\n",
    "        print('i am a function of child class thraed')\n",
    "\n",
    "t_9 = MyThread()\n",
    "t_9.start()\n",
    "t_9.func()\n",
    "\n",
    "\n"
   ]
  },
  {
   "cell_type": "code",
   "execution_count": null,
   "id": "fc94e977-e723-41f8-b198-af76b9cad1ee",
   "metadata": {},
   "outputs": [],
   "source": []
  },
  {
   "cell_type": "code",
   "execution_count": 77,
   "id": "0cec8d44-98ee-466c-a34a-c1479a89f6ac",
   "metadata": {},
   "outputs": [
    {
     "name": "stdout",
     "output_type": "stream",
     "text": [
      "I am child class thread\n",
      "I am child class thread\n",
      "I am child class thread\n",
      "I am child class thread\n",
      "I am child class thread\n",
      "\n",
      "i am main class thread\n",
      "i am main class thread\n",
      "i am main class thread\n",
      "i am main class thread\n",
      "i am main class thread\n"
     ]
    }
   ],
   "source": [
    "from threading import Thread, current_thread\n",
    "\n",
    "class MyThread(Thread):\n",
    "    for i in range(5):\n",
    "        print('I am child class thread')\n",
    "\n",
    "t_10 = MyThread()\n",
    "t_10.start()\n",
    "t_10.join()   ## execution of subsequent threads takes place when one threads get completed with execution ..here child thread executed fcompletely irst and then main thread\n",
    "\n",
    "print()\n",
    "for i in range(5):\n",
    "    print('i am main class thread')\n"
   ]
  },
  {
   "cell_type": "markdown",
   "id": "ec3aaf9f-adfb-45cd-8058-2cc67327766a",
   "metadata": {},
   "source": [
    "# Thread child class with constructor"
   ]
  },
  {
   "cell_type": "code",
   "execution_count": null,
   "id": "24d680bc-492a-4e52-81da-34008af280d7",
   "metadata": {},
   "outputs": [],
   "source": []
  },
  {
   "cell_type": "code",
   "execution_count": 80,
   "id": "1fb4428d-0e95-4f99-b311-608ebcbc4505",
   "metadata": {},
   "outputs": [
    {
     "name": "stdout",
     "output_type": "stream",
     "text": [
      "I am child thread class constructor\n",
      "my name is : Geeky Thread\n",
      "Main Thread:  Geeky Thread\n"
     ]
    },
    {
     "name": "stderr",
     "output_type": "stream",
     "text": [
      "/tmp/ipykernel_11929/161546053.py:9: DeprecationWarning: getName() is deprecated, get the name attribute instead\n",
      "  print('my name is :', current_thread().getName())    ### its outpu should be child class thread name not main thread thraed name 'main thread'\n",
      "/tmp/ipykernel_11929/161546053.py:14: DeprecationWarning: getName() is deprecated, get the name attribute instead\n",
      "  print('Main Thread: ', current_thread().getName())   ## since above i have set the amin thread name as\n"
     ]
    }
   ],
   "source": [
    "from threading import Thread, current_thread\n",
    "\n",
    "\n",
    "class MyThread(Thread):\n",
    "\n",
    "    def __init__(self):\n",
    "        Thread.__init__(self)\n",
    "        print('I am child thread class constructor')\n",
    "        print('my name is :', current_thread().getName())    ### its outpu should be child class thread name not main thread thraed name 'main thread'\n",
    "\n",
    "t_11 = MyThread()\n",
    "t_11.start()\n",
    "\n",
    "print('Main Thread: ', current_thread().getName())   ## since above i have set the amin thread name as \n",
    "\n",
    "# 'geeky thread ' hence it is giivng main thread name as geeky thread"
   ]
  },
  {
   "cell_type": "markdown",
   "id": "165e5336-a795-4cc0-af61-2e86be12a083",
   "metadata": {},
   "source": [
    "# creating a thread  w/o creating child class to Thread CLass"
   ]
  },
  {
   "cell_type": "code",
   "execution_count": null,
   "id": "e7a02290-f140-4766-955c-e26a1bc883b1",
   "metadata": {},
   "outputs": [],
   "source": []
  },
  {
   "cell_type": "code",
   "execution_count": 81,
   "id": "ed135d35-8770-4370-93c1-00052b298fba",
   "metadata": {},
   "outputs": [
    {
     "name": "stdout",
     "output_type": "stream",
     "text": [
      " iam function of child thread\n"
     ]
    }
   ],
   "source": [
    "from threading import Thread\n",
    "\n",
    "class ChildClass:\n",
    "\n",
    "    def func(self):\n",
    "        print(' iam function of child thread')\n",
    "\n",
    "child = ChildClass()\n",
    "thread_obj = Thread(target = child.func)\n",
    "thread_obj.start()"
   ]
  },
  {
   "cell_type": "code",
   "execution_count": 88,
   "id": "6db144c7-dbdd-42bd-ae91-36d095a684c8",
   "metadata": {},
   "outputs": [
    {
     "name": "stdout",
     "output_type": "stream",
     "text": [
      " iam function of child thread 10 100\n",
      " i am child thread : Thread-82 (func)\n",
      " i am main thread : Geeky Thread\n"
     ]
    },
    {
     "name": "stderr",
     "output_type": "stream",
     "text": [
      "/tmp/ipykernel_11929/2637381712.py:8: DeprecationWarning: getName() is deprecated, get the name attribute instead\n",
      "  print(' i am child thread :',current_thread().getName())\n",
      "/tmp/ipykernel_11929/2637381712.py:16: DeprecationWarning: getName() is deprecated, get the name attribute instead\n",
      "  print(' i am main thread :',current_thread().getName())\n"
     ]
    }
   ],
   "source": [
    "from threading import Thread, current_thread\n",
    "\n",
    "class ChildClass:\n",
    "    \n",
    "\n",
    "    def func(self, a, b):\n",
    "        print(' iam function of child thread',  a, b)\n",
    "        print(' i am child thread :',current_thread().getName())\n",
    "        \n",
    "        \n",
    "\n",
    "child = ChildClass()\n",
    "thread_obj = Thread(target = child.func, args = (10,100))\n",
    "thread_obj.start()\n",
    "\n",
    "print(' i am main thread :',current_thread().getName())"
   ]
  },
  {
   "cell_type": "markdown",
   "id": "0a1a44ea-a6cc-4f3c-958e-2c341a74c233",
   "metadata": {},
   "source": [
    "### Single Tasking --- Single-tasking in threading in Python involves running a single task using a single thread. This is a basic use case of threading where only one thread is created and used to execute a specific task concurrently with the main thread."
   ]
  },
  {
   "cell_type": "code",
   "execution_count": 92,
   "id": "9c954468-5c72-4a4a-9400-647aac228818",
   "metadata": {},
   "outputs": [
    {
     "name": "stdout",
     "output_type": "stream",
     "text": [
      "Number: 1\n",
      "Main thread: 1\n",
      "Number: 2\n",
      "Main thread: 2\n",
      "Number: 3Main thread: 3\n",
      "\n",
      "Main thread: 4\n",
      "Number: 4\n",
      "Main thread: 5\n",
      "Number: 5\n",
      "Thread has finished execution\n"
     ]
    }
   ],
   "source": [
    "import threading\n",
    "import time\n",
    "\n",
    "def print_numbers():\n",
    "    for i in range(1, 6):\n",
    "        print(f\"Number: {i}\")\n",
    "        time.sleep(1)\n",
    "\n",
    "single_thread = threading.Thread(target=print_numbers)\n",
    "\n",
    "single_thread.start()\n",
    "\n",
    "\n",
    "# Main thread continues executing other code\n",
    "for j in range(1, 6):\n",
    "    print(f\"Main thread: {j}\")\n",
    "    time.sleep(1)\n",
    "\n",
    "# Wait for the thread to complete\n",
    "single_thread.join()\n",
    "\n",
    "print(\"Thread has finished execution\")\n"
   ]
  },
  {
   "cell_type": "code",
   "execution_count": null,
   "id": "233b20a7-36b6-4f65-a1ef-689e3b6f2c35",
   "metadata": {},
   "outputs": [],
   "source": []
  },
  {
   "cell_type": "code",
   "execution_count": 93,
   "id": "85cd94bd-c61f-4917-9545-54cc2e7158ee",
   "metadata": {},
   "outputs": [
    {
     "name": "stdout",
     "output_type": "stream",
     "text": [
      "Number: 1\n",
      "Number: 2\n",
      "Number: 3\n",
      "Number: 4\n",
      "Number: 5\n",
      "Main thread: 1\n",
      "Main thread: 2\n",
      "Main thread: 3\n",
      "Main thread: 4\n",
      "Main thread: 5\n",
      "Thread has finished execution\n"
     ]
    }
   ],
   "source": [
    "import threading\n",
    "import time\n",
    "\n",
    "def print_numbers():\n",
    "    for i in range(1, 6):\n",
    "        print(f\"Number: {i}\")\n",
    "        time.sleep(1)\n",
    "\n",
    "single_thread = threading.Thread(target=print_numbers)\n",
    "\n",
    "single_thread.start()\n",
    "\n",
    "# Wait for the thread to complete\n",
    "single_thread.join()\n",
    "\n",
    "# Main thread continues executing other code\n",
    "for j in range(1, 6):\n",
    "    print(f\"Main thread: {j}\")\n",
    "    time.sleep(1)\n",
    "\n",
    "\n",
    "print(\"Thread has finished execution\")\n"
   ]
  },
  {
   "cell_type": "markdown",
   "id": "b5f89f4a-116d-4124-bd5d-5309ba8a8449",
   "metadata": {},
   "source": [
    "# Multitasking using multiple thread\n",
    "\n",
    "\n",
    "Multitasking using multiple threads in Python involves running multiple threads concurrently, each performing different tasks. This allows a program to handle several operations at the same time, improving performance and efficiency, especially in I/O-bound operations."
   ]
  },
  {
   "cell_type": "code",
   "execution_count": 96,
   "id": "68403b96-40b1-4b42-b856-0190e483fe90",
   "metadata": {},
   "outputs": [
    {
     "name": "stdout",
     "output_type": "stream",
     "text": [
      "Number: 1\n",
      "Letter: a\n",
      "Main thread: 1\n",
      "Number: 2\n",
      "Letter: b\n",
      "Main thread: 2\n",
      "Number: 3\n",
      "Letter: c\n",
      "Main thread: 3\n",
      "Number: 4\n",
      "Letter: d\n",
      "Number: 5\n",
      "Letter: e\n",
      "Both threads have finished execution\n"
     ]
    }
   ],
   "source": [
    "import threading\n",
    "import time\n",
    "\n",
    "# Define a function to print numbers\n",
    "def print_numbers():\n",
    "    for i in range(1, 6):\n",
    "        print(f\"Number: {i}\")\n",
    "        time.sleep(1)\n",
    "\n",
    "# Define a function to print letters\n",
    "def print_letters():\n",
    "    for letter in 'abcde':\n",
    "        print(f\"Letter: {letter}\")\n",
    "        time.sleep(1)\n",
    "\n",
    "# Create threads\n",
    "thread1 = threading.Thread(target=print_numbers)\n",
    "thread2 = threading.Thread(target=print_letters)\n",
    "\n",
    "# Start threads\n",
    "thread1.start()\n",
    "thread2.start()\n",
    "\n",
    "# Main thread continues executing other code\n",
    "for j in range(1, 4):\n",
    "    print(f\"Main thread: {j}\")\n",
    "    time.sleep(1)   ## change the no. and see the changes\n",
    "\n",
    "# Wait for threads to complete\n",
    "thread1.join()\n",
    "thread2.join()\n",
    "\n",
    "print(\"Both threads have finished execution\")\n",
    "\n",
    "        "
   ]
  },
  {
   "cell_type": "code",
   "execution_count": 99,
   "id": "941c4e59-eaef-4072-a211-f65771fbf864",
   "metadata": {},
   "outputs": [],
   "source": [
    "# SEE THE CHANGES DURING JOIN PLACED AT DIFFERENT PLACE"
   ]
  },
  {
   "cell_type": "code",
   "execution_count": 100,
   "id": "22ca7eff-f285-4cce-b728-d13ddf685483",
   "metadata": {},
   "outputs": [
    {
     "name": "stdout",
     "output_type": "stream",
     "text": [
      "Number: 1\n",
      "Letter: a\n",
      "Number: 2\n",
      "Letter: b\n",
      "Number: 3\n",
      "Letter: c\n",
      "Number: 4\n",
      "Letter: d\n",
      "Number: 5\n",
      "Letter: e\n",
      "Main thread: 1\n",
      "Main thread: 2\n",
      "Main thread: 3\n",
      "Both threads have finished execution\n"
     ]
    }
   ],
   "source": [
    "\n",
    "\n",
    "import threading\n",
    "import time\n",
    "\n",
    "# Define a function to print numbers\n",
    "def print_numbers():\n",
    "    for i in range(1, 6):\n",
    "        print(f\"Number: {i}\")\n",
    "        time.sleep(1)\n",
    "\n",
    "# Define a function to print letters\n",
    "def print_letters():\n",
    "    for letter in 'abcde':\n",
    "        print(f\"Letter: {letter}\")\n",
    "        time.sleep(1)\n",
    "\n",
    "# Create threads\n",
    "thread1 = threading.Thread(target=print_numbers)\n",
    "thread2 = threading.Thread(target=print_letters)\n",
    "\n",
    "# Start threads\n",
    "thread1.start()\n",
    "thread2.start()\n",
    "\n",
    "\n",
    "# Wait for threads to complete\n",
    "thread1.join()\n",
    "thread2.join()\n",
    "\n",
    "# Main thread continues executing other code\n",
    "for j in range(1, 4):\n",
    "    print(f\"Main thread: {j}\")\n",
    "    time.sleep(1)\n",
    "\n",
    "\n",
    "print(\"Both threads have finished execution\")\n"
   ]
  },
  {
   "cell_type": "code",
   "execution_count": null,
   "id": "67f9364e-87e6-4445-bed0-f7aaaa6dbf98",
   "metadata": {},
   "outputs": [],
   "source": []
  },
  {
   "cell_type": "code",
   "execution_count": 102,
   "id": "4776e0db-2073-4d26-8850-3739ebc29f81",
   "metadata": {},
   "outputs": [
    {
     "name": "stdout",
     "output_type": "stream",
     "text": [
      "Number: 1\n",
      "Number: 2\n",
      "Number: 3\n",
      "Number: 4\n",
      "Number: 5\n",
      "Letter: a\n",
      "Letter: b\n",
      "Letter: c\n",
      "Letter: d\n",
      "Letter: e\n",
      "Main thread: 1\n",
      "Main thread: 2\n",
      "Main thread: 3\n",
      "Both threads have finished execution\n"
     ]
    }
   ],
   "source": [
    "\n",
    "import threading\n",
    "import time\n",
    "\n",
    "# Define a function to print numbers\n",
    "def print_numbers():\n",
    "    for i in range(1, 6):\n",
    "        print(f\"Number: {i}\")\n",
    "        time.sleep(1)\n",
    "\n",
    "# Define a function to print letters\n",
    "def print_letters():\n",
    "    for letter in 'abcde':\n",
    "        print(f\"Letter: {letter}\")\n",
    "        time.sleep(1)\n",
    "\n",
    "# Create threads\n",
    "thread1 = threading.Thread(target=print_numbers)\n",
    "thread2 = threading.Thread(target=print_letters)\n",
    "\n",
    "# Start threads\n",
    "thread1.start()\n",
    "thread1.join()   ## here join means first thread1 wil execute comletely\n",
    "\n",
    "thread2.start()\n",
    "thread2.join()   # here join means first thread2 wil execute comletely after thread1\n",
    "\n",
    "## AND THEN MAIN THREAD RUN\n",
    "\n",
    "# Main thread continues executing other code\n",
    "for j in range(1, 4):\n",
    "    print(f\"Main thread: {j}\")\n",
    "    time.sleep(1)\n",
    "\n",
    "\n",
    "print(\"Both threads have finished execution\")"
   ]
  },
  {
   "cell_type": "code",
   "execution_count": null,
   "id": "d2da4380-bc89-4d71-9169-26245fcaa461",
   "metadata": {},
   "outputs": [],
   "source": []
  }
 ],
 "metadata": {
  "kernelspec": {
   "display_name": "Python 3 (ipykernel)",
   "language": "python",
   "name": "python3"
  },
  "language_info": {
   "codemirror_mode": {
    "name": "ipython",
    "version": 3
   },
   "file_extension": ".py",
   "mimetype": "text/x-python",
   "name": "python",
   "nbconvert_exporter": "python",
   "pygments_lexer": "ipython3",
   "version": "3.12.4"
  }
 },
 "nbformat": 4,
 "nbformat_minor": 5
}
