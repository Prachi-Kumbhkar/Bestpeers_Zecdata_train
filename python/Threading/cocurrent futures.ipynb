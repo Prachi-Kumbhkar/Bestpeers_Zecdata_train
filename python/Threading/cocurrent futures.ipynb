{
 "cells": [
  {
   "cell_type": "markdown",
   "id": "1138ae82-0b75-4a3a-84bc-0fe709dedb39",
   "metadata": {},
   "source": [
    "The concurrent.futures module provides a high-level interface for asynchronously executing processes, and thread\n",
    "\n",
    "The asynchronous execution can be performed with threads, using ThreadPoolExecutor , or separate processes, using ProcessPoolExecutor ."
   ]
  },
  {
   "cell_type": "markdown",
   "id": "68b2c315-def8-48aa-b448-7cfb1c40fd5c",
   "metadata": {},
   "source": [
    "#### concurrent futures with Threads"
   ]
  },
  {
   "cell_type": "code",
   "execution_count": 3,
   "id": "e544ceeb-42df-4c50-98f1-a111bd324d53",
   "metadata": {},
   "outputs": [
    {
     "name": "stdout",
     "output_type": "stream",
     "text": [
      "Hello, World!\n"
     ]
    }
   ],
   "source": [
    "import concurrent.futures\n",
    "import time\n",
    "\n",
    "def return_after_5_secs(message):\n",
    "    time.sleep(3)\n",
    "    return message\n",
    "\n",
    "with concurrent.futures.ThreadPoolExecutor() as executor:      # Create a ThreadPoolExecutor\n",
    "\n",
    "    future = executor.submit(return_after_5_secs, \"Hello, World!\")\n",
    "    print(future.result())                                     # Waits for the future to complete and retrieves the result\n"
   ]
  },
  {
   "cell_type": "code",
   "execution_count": null,
   "id": "99dadae8-0054-4467-a7f6-1e85a8b62fd5",
   "metadata": {},
   "outputs": [],
   "source": []
  },
  {
   "cell_type": "markdown",
   "id": "7a415614-8bcd-4750-a48a-5281e73c760d",
   "metadata": {},
   "source": [
    "#### concurrent futures with processes"
   ]
  },
  {
   "cell_type": "code",
   "execution_count": 1,
   "id": "a31d1c9c-ce11-4ec3-87aa-38ec890e92b7",
   "metadata": {},
   "outputs": [
    {
     "name": "stdout",
     "output_type": "stream",
     "text": [
      "0\n",
      "1\n",
      "4\n",
      "9\n",
      "16\n",
      "25\n",
      "36\n",
      "49\n",
      "64\n",
      "81\n"
     ]
    }
   ],
   "source": [
    "import concurrent.futures\n",
    "\n",
    "def square(n):\n",
    "    return n * n\n",
    "\n",
    "\n",
    "with concurrent.futures.ProcessPoolExecutor() as executor:      # Create a ProcessPoolExecutor\n",
    "    results = executor.map(square, range(10))\n",
    "\n",
    "    for result in results:\n",
    "        print(result)\n"
   ]
  },
  {
   "cell_type": "code",
   "execution_count": null,
   "id": "1e4ad341-ad13-439f-8986-736fe7713118",
   "metadata": {},
   "outputs": [],
   "source": []
  }
 ],
 "metadata": {
  "kernelspec": {
   "display_name": "Python 3 (ipykernel)",
   "language": "python",
   "name": "python3"
  },
  "language_info": {
   "codemirror_mode": {
    "name": "ipython",
    "version": 3
   },
   "file_extension": ".py",
   "mimetype": "text/x-python",
   "name": "python",
   "nbconvert_exporter": "python",
   "pygments_lexer": "ipython3",
   "version": "3.12.4"
  }
 },
 "nbformat": 4,
 "nbformat_minor": 5
}
