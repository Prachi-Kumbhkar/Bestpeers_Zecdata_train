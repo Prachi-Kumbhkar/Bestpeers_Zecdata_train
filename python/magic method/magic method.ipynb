{
 "cells": [
  {
   "cell_type": "markdown",
   "id": "a668ff7e-0461-4bef-9fa8-68dcf14c8bd5",
   "metadata": {},
   "source": [
    "# __new__ method"
   ]
  },
  {
   "cell_type": "markdown",
   "id": "8b642304-9cb2-435a-b46a-1e427053e0af",
   "metadata": {},
   "source": [
    "In Python, __new__ is a special method that's responsible for creating instances of a class.\n",
    "\n",
    "It's automatically called before __init__, which initializes the instance"
   ]
  },
  {
   "cell_type": "code",
   "execution_count": 1,
   "id": "33a16d6d-8aa1-47c9-b89c-469e1a419809",
   "metadata": {},
   "outputs": [],
   "source": [
    "## generally objects get created this way\n",
    "\n",
    "\n",
    "class MyClass:\n",
    "    def __new__(cls, *args, **kwargs):\n",
    "        # Custom logic for creating an instance\n",
    "        instance = super().__new__(cls)\n",
    "        # Additional initialization can be done here if needed\n",
    "        return instance\n",
    "    \n",
    "    def __init__(self, x):\n",
    "        self.x = x\n",
    "\n",
    "obj = MyClass(10)\n"
   ]
  },
  {
   "cell_type": "markdown",
   "id": "c84a3155-c016-4c65-abcd-89691b28d817",
   "metadata": {},
   "source": [
    "#### new method is used to control or restricts to haveonly one instnace of class(Singleton Pattern)`"
   ]
  },
  {
   "cell_type": "code",
   "execution_count": 2,
   "id": "3086e341-3084-476a-8a57-ff455a7c3a78",
   "metadata": {},
   "outputs": [
    {
     "name": "stdout",
     "output_type": "stream",
     "text": [
      "10\n",
      "20\n",
      "True\n"
     ]
    }
   ],
   "source": [
    "class Singleton:\n",
    "    class_instance = None\n",
    "\n",
    "    def __new__(cls, *args, **kwargs):\n",
    "        if not cls.class_instance:\n",
    "            cls.class_instance = super().__new__(cls)\n",
    "        return cls.class_instance\n",
    "\n",
    "    def __init__(self, value):\n",
    "        self.value = value\n",
    "\n",
    "obj1 = Singleton(10)\n",
    "print(obj1.value) \n",
    "\n",
    "obj2 = Singleton(20)\n",
    "print(obj2.value) \n",
    "\n",
    "print(obj1 is obj2)"
   ]
  },
  {
   "cell_type": "code",
   "execution_count": null,
   "id": "9627303d-b8d6-4747-bb21-79c8cec6822e",
   "metadata": {},
   "outputs": [],
   "source": []
  }
 ],
 "metadata": {
  "kernelspec": {
   "display_name": "Python 3 (ipykernel)",
   "language": "python",
   "name": "python3"
  },
  "language_info": {
   "codemirror_mode": {
    "name": "ipython",
    "version": 3
   },
   "file_extension": ".py",
   "mimetype": "text/x-python",
   "name": "python",
   "nbconvert_exporter": "python",
   "pygments_lexer": "ipython3",
   "version": "3.12.4"
  }
 },
 "nbformat": 4,
 "nbformat_minor": 5
}
