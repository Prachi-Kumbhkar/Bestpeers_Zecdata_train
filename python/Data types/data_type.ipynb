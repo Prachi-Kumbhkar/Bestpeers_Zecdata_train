{
 "cells": [
  {
   "cell_type": "code",
   "execution_count": 1,
   "id": "27c68efc-d4d5-47a7-9edd-52d02110eeed",
   "metadata": {},
   "outputs": [
    {
     "name": "stdout",
     "output_type": "stream",
     "text": [
      "frozenset of list of num:  frozenset({1, 2, 3, 4, 5})\n",
      "frozenset of tuple of str:  frozenset({'hello', 'hi'})\n"
     ]
    }
   ],
   "source": [
    "'''python provides a number of data types\n",
    "1 .. Numeric (int, float , complex)\n",
    "2 .. Sequence (str, list, tuple)\n",
    "3 .. Mapping (dictionary)\n",
    "4 .. Set  Types (set , frozenset)\n",
    "5 .. Boolean Type (True, False)\n",
    "6 .. None Type\n",
    " '''\n",
    "\n",
    "# Numeric Types\n",
    "integer = 10\n",
    "floating = 10.5\n",
    "complex_num = 2 + 3j\n",
    "\n",
    "# Sequence Types\n",
    "string = \"Hello, World!\"\n",
    "list = [1, 2, 3, 4, 5]\n",
    "\n",
    "tuple = (1, 2, 3, 4, 5)\n",
    "# range = range(5)\n",
    "\n",
    "# Mapping Type\n",
    "dictionary = {\"name\": \"John\", \"age\": 30}\n",
    "\n",
    "# Set Types\n",
    "set = {1, 2, 3, 4, 5}\n",
    "frozenset_1 = frozenset([1, 2, 3, 4, 5])\n",
    "frozenset_2 = frozenset(('hi' , 'hello'))\n",
    "print('frozenset of list of num: ' ,frozenset_1)\n",
    "print('frozenset of tuple of str: ' ,frozenset_2)\n",
    "\n",
    "\n",
    "'''A frozenset is an immutable version of a set in Python.\n",
    " This means that once a frozenset is created, its elements cannot be modified, added, or removed.'''\n",
    "\n",
    "# Boolean Type\n",
    "boolean_true = True\n",
    "boolean_false = False\n",
    "\n",
    "# None Type\n",
    "none_example = None\n",
    "\n",
    "# NONE ------- IT IS None is used to define a null value or Null object in Python.\n",
    "## It is not the same as an empty string, a False, or a zero. It is a data type of the class NoneType object. \n",
    "\n",
    "\n",
    "# print(a)"
   ]
  },
  {
   "cell_type": "code",
   "execution_count": null,
   "id": "c8eda450-e225-48de-b56c-51f0fac64c2b",
   "metadata": {},
   "outputs": [],
   "source": []
  }
 ],
 "metadata": {
  "kernelspec": {
   "display_name": "Python 3 (ipykernel)",
   "language": "python",
   "name": "python3"
  },
  "language_info": {
   "codemirror_mode": {
    "name": "ipython",
    "version": 3
   },
   "file_extension": ".py",
   "mimetype": "text/x-python",
   "name": "python",
   "nbconvert_exporter": "python",
   "pygments_lexer": "ipython3",
   "version": "3.12.4"
  }
 },
 "nbformat": 4,
 "nbformat_minor": 5
}
